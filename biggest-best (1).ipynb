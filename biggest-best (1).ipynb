{
 "cells": [
  {
   "cell_type": "code",
   "execution_count": 1,
   "id": "fe099f6e",
   "metadata": {
    "_cell_guid": "b1076dfc-b9ad-4769-8c92-a6c4dae69d19",
    "_uuid": "8f2839f25d086af736a60e9eeb907d3b93b6e0e5",
    "execution": {
     "iopub.execute_input": "2025-08-18T20:10:37.969248Z",
     "iopub.status.busy": "2025-08-18T20:10:37.968890Z",
     "iopub.status.idle": "2025-08-18T20:10:38.629009Z",
     "shell.execute_reply": "2025-08-18T20:10:38.628060Z"
    },
    "papermill": {
     "duration": 0.669886,
     "end_time": "2025-08-18T20:10:38.631186",
     "exception": false,
     "start_time": "2025-08-18T20:10:37.961300",
     "status": "completed"
    },
    "tags": []
   },
   "outputs": [],
   "source": [
    "import polars as pl\n",
    "\n",
    "DATA_PATH = \"/kaggle/input/trendyol-e-ticaret-hackathonu-2025-kaggle/data\""
   ]
  },
  {
   "cell_type": "code",
   "execution_count": 2,
   "id": "3b0c67c9",
   "metadata": {
    "execution": {
     "iopub.execute_input": "2025-08-18T20:10:38.642882Z",
     "iopub.status.busy": "2025-08-18T20:10:38.642503Z",
     "iopub.status.idle": "2025-08-18T20:10:42.609663Z",
     "shell.execute_reply": "2025-08-18T20:10:42.608716Z"
    },
    "papermill": {
     "duration": 3.975197,
     "end_time": "2025-08-18T20:10:42.611726",
     "exception": false,
     "start_time": "2025-08-18T20:10:38.636529",
     "status": "completed"
    },
    "tags": []
   },
   "outputs": [],
   "source": [
    "# Read train, test and content data\n",
    "train_sessions = pl.read_parquet(f\"{DATA_PATH}/train_sessions.parquet\")\n",
    "test_sessions = pl.read_parquet(f\"{DATA_PATH}/test_sessions.parquet\")\n",
    "\n",
    "content_metadata = pl.read_parquet(f\"{DATA_PATH}/content/metadata.parquet\")"
   ]
  },
  {
   "cell_type": "code",
   "execution_count": 3,
   "id": "34c17bf4",
   "metadata": {
    "execution": {
     "iopub.execute_input": "2025-08-18T20:10:42.624023Z",
     "iopub.status.busy": "2025-08-18T20:10:42.623243Z",
     "iopub.status.idle": "2025-08-18T20:10:42.760730Z",
     "shell.execute_reply": "2025-08-18T20:10:42.759946Z"
    },
    "papermill": {
     "duration": 0.145707,
     "end_time": "2025-08-18T20:10:42.762672",
     "exception": false,
     "start_time": "2025-08-18T20:10:42.616965",
     "status": "completed"
    },
    "tags": []
   },
   "outputs": [],
   "source": [
    "# Read user data\n",
    "user_metadata = pl.read_parquet(f\"{DATA_PATH}/user/metadata.parquet\")\n",
    "user_search_log = pl.read_parquet(f\"{DATA_PATH}/user/search_log.parquet\")"
   ]
  },
  {
   "cell_type": "code",
   "execution_count": 4,
   "id": "5ed5d34a",
   "metadata": {
    "execution": {
     "iopub.execute_input": "2025-08-18T20:10:42.774600Z",
     "iopub.status.busy": "2025-08-18T20:10:42.773635Z",
     "iopub.status.idle": "2025-08-18T20:12:23.480347Z",
     "shell.execute_reply": "2025-08-18T20:12:23.478463Z"
    },
    "papermill": {
     "duration": 100.716602,
     "end_time": "2025-08-18T20:12:23.484440",
     "exception": false,
     "start_time": "2025-08-18T20:10:42.767838",
     "status": "completed"
    },
    "tags": []
   },
   "outputs": [],
   "source": [
    "user_fashion_search_log = pl.read_parquet(f\"{DATA_PATH}/user/fashion_search_log.parquet\")\n",
    "\n",
    "unique_users = user_fashion_search_log[\"user_id_hashed\"].unique()\n",
    "chunk_size = 10000\n",
    "\n",
    "summaries = []\n",
    "for i in range(0, len(unique_users), chunk_size):\n",
    "    chunk_users = unique_users[i:i+chunk_size]\n",
    "    temp = (\n",
    "        user_fashion_search_log\n",
    "        .filter(pl.col(\"user_id_hashed\").is_in(chunk_users))\n",
    "        .group_by([\"user_id_hashed\", \"content_id_hashed\"])\n",
    "        .agg([\n",
    "            pl.col(\"total_search_click\").mean().alias(\"user_fashion_search_log_avg_total_search_click\"),\n",
    "            pl.col(\"total_search_impression\").mean().alias(\"user_fashion_search_log_avg_total_search_impression\"),\n",
    "        ])\n",
    "    )\n",
    "    summaries.append(temp)\n",
    "\n",
    "user_fashion_search_log_summary = pl.concat(summaries)"
   ]
  },
  {
   "cell_type": "code",
   "execution_count": 5,
   "id": "de31dc38",
   "metadata": {
    "execution": {
     "iopub.execute_input": "2025-08-18T20:12:23.499444Z",
     "iopub.status.busy": "2025-08-18T20:12:23.499073Z",
     "iopub.status.idle": "2025-08-18T20:12:23.621321Z",
     "shell.execute_reply": "2025-08-18T20:12:23.620215Z"
    },
    "papermill": {
     "duration": 0.130985,
     "end_time": "2025-08-18T20:12:23.623246",
     "exception": false,
     "start_time": "2025-08-18T20:12:23.492261",
     "status": "completed"
    },
    "tags": []
   },
   "outputs": [
    {
     "data": {
      "text/plain": [
       "0"
      ]
     },
     "execution_count": 5,
     "metadata": {},
     "output_type": "execute_result"
    }
   ],
   "source": [
    "del user_fashion_search_log\n",
    "\n",
    "import gc\n",
    "gc.collect()"
   ]
  },
  {
   "cell_type": "code",
   "execution_count": 6,
   "id": "a80d66b4",
   "metadata": {
    "execution": {
     "iopub.execute_input": "2025-08-18T20:12:23.635044Z",
     "iopub.status.busy": "2025-08-18T20:12:23.634093Z",
     "iopub.status.idle": "2025-08-18T20:12:32.294243Z",
     "shell.execute_reply": "2025-08-18T20:12:32.292977Z"
    },
    "papermill": {
     "duration": 8.667852,
     "end_time": "2025-08-18T20:12:32.296202",
     "exception": false,
     "start_time": "2025-08-18T20:12:23.628350",
     "status": "completed"
    },
    "tags": []
   },
   "outputs": [],
   "source": [
    "content_sitewide_log = pl.read_parquet(f\"{DATA_PATH}/content/sitewide_log.parquet\")\n",
    "\n",
    "# Summarize the content past history with mean of specific content ID values\n",
    "content_sitewide_log_summary = (\n",
    "    content_sitewide_log\n",
    "    .group_by(\"content_id_hashed\")\n",
    "    .agg([\n",
    "        pl.col(\"total_click\").mean().alias(\"content_sitewide_avg_total_click\"),\n",
    "        pl.col(\"total_cart\").mean().alias(\"content_sitewide_avg_total_cart\"),\n",
    "        pl.col(\"total_fav\").mean().alias(\"content_sitewide_avg_total_fav\"),\n",
    "        pl.col(\"total_order\").mean().alias(\"content_sitewide_avg_total_order\"),\n",
    "    ])\n",
    ")"
   ]
  },
  {
   "cell_type": "code",
   "execution_count": 7,
   "id": "7bbd6a30",
   "metadata": {
    "execution": {
     "iopub.execute_input": "2025-08-18T20:12:32.313030Z",
     "iopub.status.busy": "2025-08-18T20:12:32.311638Z",
     "iopub.status.idle": "2025-08-18T20:12:32.856742Z",
     "shell.execute_reply": "2025-08-18T20:12:32.855010Z"
    },
    "papermill": {
     "duration": 0.553664,
     "end_time": "2025-08-18T20:12:32.858855",
     "exception": false,
     "start_time": "2025-08-18T20:12:32.305191",
     "status": "completed"
    },
    "tags": []
   },
   "outputs": [],
   "source": [
    "user_sitewide_log = pl.read_parquet(f\"{DATA_PATH}/user/sitewide_log.parquet\")\n",
    "\n",
    "# Summarize the user site log and fashion site log history with mean of specific user ID values\n",
    "user_sitewide_log_summary = (\n",
    "    user_sitewide_log\n",
    "    .group_by(\"user_id_hashed\")\n",
    "    .agg([\n",
    "        pl.col(\"total_click\").mean().alias(\"user_sitewide_avg_total_click\"),\n",
    "        pl.col(\"total_cart\").mean().alias(\"user_sitewide_avg_total_cart\"),\n",
    "        pl.col(\"total_fav\").mean().alias(\"user_sitewide_avg_total_fav\"),\n",
    "        pl.col(\"total_order\").mean().alias(\"user_sitewide_avg_total_order\"),\n",
    "    ])\n",
    ")\n",
    "\n"
   ]
  },
  {
   "cell_type": "code",
   "execution_count": 8,
   "id": "1c244265",
   "metadata": {
    "execution": {
     "iopub.execute_input": "2025-08-18T20:12:32.871141Z",
     "iopub.status.busy": "2025-08-18T20:12:32.870714Z",
     "iopub.status.idle": "2025-08-18T20:12:39.954283Z",
     "shell.execute_reply": "2025-08-18T20:12:39.953254Z"
    },
    "papermill": {
     "duration": 7.091708,
     "end_time": "2025-08-18T20:12:39.956134",
     "exception": false,
     "start_time": "2025-08-18T20:12:32.864426",
     "status": "completed"
    },
    "tags": []
   },
   "outputs": [],
   "source": [
    "user_fashion_sitewide_log = pl.read_parquet(f\"{DATA_PATH}/user/fashion_sitewide_log.parquet\")\n",
    "\n",
    "unique_users = user_fashion_sitewide_log[\"user_id_hashed\"].unique()\n",
    "chunk_size = 1000\n",
    "\n",
    "summaries = []\n",
    "for i in range(0, len(unique_users), chunk_size):\n",
    "    chunk_users = unique_users[i:i+chunk_size]\n",
    "    temp = (\n",
    "        user_fashion_sitewide_log\n",
    "        .filter(pl.col(\"user_id_hashed\").is_in(chunk_users))\n",
    "        .group_by([\"user_id_hashed\", \"content_id_hashed\"])\n",
    "        .agg([\n",
    "            pl.col(\"total_click\").mean().alias(\"user_fashion_sitewide_avg_total_click\"),\n",
    "            pl.col(\"total_cart\").mean().alias(\"user_fashion_sitewide_avg_total_cart\"),\n",
    "            pl.col(\"total_fav\").mean().alias(\"user_fashion_sitewide_avg_total_fav\"),\n",
    "            pl.col(\"total_order\").mean().alias(\"user_fashion_sitewide_avg_total_order\"),\n",
    "        ])\n",
    "    )\n",
    "    summaries.append(temp)\n",
    "\n",
    "user_fashion_sitewide_log_summary = pl.concat(summaries)\n",
    "\n"
   ]
  },
  {
   "cell_type": "code",
   "execution_count": 9,
   "id": "a73074b8",
   "metadata": {
    "execution": {
     "iopub.execute_input": "2025-08-18T20:12:39.968468Z",
     "iopub.status.busy": "2025-08-18T20:12:39.968129Z",
     "iopub.status.idle": "2025-08-18T20:17:39.051919Z",
     "shell.execute_reply": "2025-08-18T20:17:39.050866Z"
    },
    "papermill": {
     "duration": 299.09198,
     "end_time": "2025-08-18T20:17:39.053827",
     "exception": false,
     "start_time": "2025-08-18T20:12:39.961847",
     "status": "completed"
    },
    "tags": []
   },
   "outputs": [],
   "source": [
    "content_top_terms_log = pl.read_parquet(f\"{DATA_PATH}/content/top_terms_log.parquet\")\n",
    "\n",
    "unique_users = content_top_terms_log[\"content_id_hashed\"].unique()\n",
    "chunk_size = 1000\n",
    "\n",
    "summaries = []\n",
    "for i in range(0, len(unique_users), chunk_size):\n",
    "    chunk_users = unique_users[i:i+chunk_size]\n",
    "    temp = (\n",
    "        content_top_terms_log\n",
    "        .filter(pl.col(\"content_id_hashed\").is_in(chunk_users))\n",
    "        .group_by([\"content_id_hashed\", \"search_term_normalized\"])\n",
    "        .agg([\n",
    "            pl.col(\"total_search_click\").mean().alias(\"content_top_terms_log_avg_total_search_click\"),\n",
    "            pl.col(\"total_search_impression\").mean().alias(\"content_top_terms_log_avg_total_search_impression\"),\n",
    "        ])\n",
    "    )\n",
    "    summaries.append(temp)\n",
    "\n",
    "content_top_terms_log_summary = pl.concat(summaries)"
   ]
  },
  {
   "cell_type": "code",
   "execution_count": 10,
   "id": "2df1dee9",
   "metadata": {
    "execution": {
     "iopub.execute_input": "2025-08-18T20:17:39.066147Z",
     "iopub.status.busy": "2025-08-18T20:17:39.065815Z",
     "iopub.status.idle": "2025-08-18T20:17:39.145974Z",
     "shell.execute_reply": "2025-08-18T20:17:39.144810Z"
    },
    "papermill": {
     "duration": 0.08819,
     "end_time": "2025-08-18T20:17:39.147786",
     "exception": false,
     "start_time": "2025-08-18T20:17:39.059596",
     "status": "completed"
    },
    "tags": []
   },
   "outputs": [],
   "source": [
    "user_top_terms_log = pl.read_parquet(f\"{DATA_PATH}/user/top_terms_log.parquet\")\n",
    "\n",
    "unique_users = user_top_terms_log[\"user_id_hashed\"].unique()\n",
    "chunk_size = 1000\n",
    "\n",
    "summaries = []\n",
    "for i in range(0, len(unique_users), chunk_size):\n",
    "    chunk_users = unique_users[i:i+chunk_size]\n",
    "    temp = (\n",
    "        user_top_terms_log\n",
    "        .filter(pl.col(\"user_id_hashed\").is_in(chunk_users))\n",
    "        .group_by([\"user_id_hashed\", \"search_term_normalized\"])\n",
    "        .agg([\n",
    "            pl.col(\"total_search_click\").mean().alias(\"user_top_terms_log_avg_total_search_click\"),\n",
    "            pl.col(\"total_search_impression\").mean().alias(\"user_top_terms_log_avg_total_search_impression\"),\n",
    "        ])\n",
    "    )\n",
    "    summaries.append(temp)\n",
    "\n",
    "user_top_terms_log_summary = pl.concat(summaries)\n"
   ]
  },
  {
   "cell_type": "code",
   "execution_count": 11,
   "id": "6aea6adb",
   "metadata": {
    "execution": {
     "iopub.execute_input": "2025-08-18T20:17:39.160153Z",
     "iopub.status.busy": "2025-08-18T20:17:39.159789Z",
     "iopub.status.idle": "2025-08-18T20:17:39.262747Z",
     "shell.execute_reply": "2025-08-18T20:17:39.261658Z"
    },
    "papermill": {
     "duration": 0.111504,
     "end_time": "2025-08-18T20:17:39.264633",
     "exception": false,
     "start_time": "2025-08-18T20:17:39.153129",
     "status": "completed"
    },
    "tags": []
   },
   "outputs": [],
   "source": [
    "term_search_log = pl.read_parquet(f\"{DATA_PATH}/term/search_log.parquet\")\n",
    "\n",
    "term_search_log_summary = (\n",
    "    term_search_log\n",
    "    .group_by(\"search_term_normalized\")\n",
    "    .agg([\n",
    "        pl.col(\"total_search_click\").mean().alias(\"term_search_log_avg_total_search_click\"),\n",
    "        pl.col(\"total_search_impression\").mean().alias(\"term_search_log_avg_total_search_impression\"),\n",
    "    ])\n",
    ")\n",
    "\n"
   ]
  },
  {
   "cell_type": "code",
   "execution_count": 12,
   "id": "13c86f43",
   "metadata": {
    "execution": {
     "iopub.execute_input": "2025-08-18T20:17:39.277219Z",
     "iopub.status.busy": "2025-08-18T20:17:39.276917Z",
     "iopub.status.idle": "2025-08-18T20:17:40.725998Z",
     "shell.execute_reply": "2025-08-18T20:17:40.724920Z"
    },
    "papermill": {
     "duration": 1.457278,
     "end_time": "2025-08-18T20:17:40.727797",
     "exception": false,
     "start_time": "2025-08-18T20:17:39.270519",
     "status": "completed"
    },
    "tags": []
   },
   "outputs": [],
   "source": [
    "content_price_data = pl.read_parquet(f\"{DATA_PATH}/content/price_rate_review_data.parquet\")\n",
    "\n",
    "content_price_data_summary = (\n",
    "    content_price_data\n",
    "    .group_by(\"content_id_hashed\")\n",
    "    .agg([\n",
    "        pl.col(\"update_date\").mean().alias(\"content_price_data_avg_update_date\"),\n",
    "        pl.col(\"original_price\").mean().alias(\"content_price_data_avg_original_price\"),\n",
    "        pl.col(\"selling_price\").mean().alias(\"content_price_data_avg_selling_price\"),\n",
    "        pl.col(\"discounted_price\").mean().alias(\"content_price_data_avg_discounted_price\"),\n",
    "        pl.col(\"content_review_count\").mean().alias(\"content_price_data_avg_content_review_count\"),        \n",
    "        pl.col(\"content_review_wth_media_count\").mean().alias(\"content_price_data_avg_content_review_wth_media_count\"),\n",
    "        pl.col(\"content_rate_count\").mean().alias(\"content_price_data_avg_content_rate_count\"),\n",
    "        pl.col(\"content_rate_avg\").mean().alias(\"content_price_data_avg_content_rate_avg\"),        \n",
    "    ])\n",
    ")"
   ]
  },
  {
   "cell_type": "code",
   "execution_count": 13,
   "id": "f9fb44df",
   "metadata": {
    "execution": {
     "iopub.execute_input": "2025-08-18T20:17:40.739773Z",
     "iopub.status.busy": "2025-08-18T20:17:40.739405Z",
     "iopub.status.idle": "2025-08-18T20:17:41.356073Z",
     "shell.execute_reply": "2025-08-18T20:17:41.354936Z"
    },
    "papermill": {
     "duration": 0.62467,
     "end_time": "2025-08-18T20:17:41.357814",
     "exception": false,
     "start_time": "2025-08-18T20:17:40.733144",
     "status": "completed"
    },
    "tags": []
   },
   "outputs": [
    {
     "data": {
      "text/plain": [
       "0"
      ]
     },
     "execution_count": 13,
     "metadata": {},
     "output_type": "execute_result"
    }
   ],
   "source": [
    "del content_sitewide_log\n",
    "del user_sitewide_log\n",
    "del user_fashion_sitewide_log\n",
    "del content_top_terms_log\n",
    "del user_top_terms_log\n",
    "del term_search_log\n",
    "del content_price_data\n",
    "\n",
    "import gc\n",
    "gc.collect()"
   ]
  },
  {
   "cell_type": "code",
   "execution_count": 14,
   "id": "bf097c13",
   "metadata": {
    "execution": {
     "iopub.execute_input": "2025-08-18T20:17:41.369853Z",
     "iopub.status.busy": "2025-08-18T20:17:41.369488Z",
     "iopub.status.idle": "2025-08-18T20:17:41.374932Z",
     "shell.execute_reply": "2025-08-18T20:17:41.373913Z"
    },
    "papermill": {
     "duration": 0.013235,
     "end_time": "2025-08-18T20:17:41.376427",
     "exception": false,
     "start_time": "2025-08-18T20:17:41.363192",
     "status": "completed"
    },
    "tags": []
   },
   "outputs": [],
   "source": [
    "def calculate_click_impression_ratio(df: pl.DataFrame, prefix: str):\n",
    "    return df.with_columns(\n",
    "        (pl.col(f'{prefix}_total_search_click') / pl.col(f'{prefix}_total_search_impression')).alias(f'{prefix}_click_impression_ratio')\n",
    "    )"
   ]
  },
  {
   "cell_type": "code",
   "execution_count": 15,
   "id": "00faf7be",
   "metadata": {
    "execution": {
     "iopub.execute_input": "2025-08-18T20:17:41.390817Z",
     "iopub.status.busy": "2025-08-18T20:17:41.390476Z",
     "iopub.status.idle": "2025-08-18T20:17:41.460677Z",
     "shell.execute_reply": "2025-08-18T20:17:41.459601Z"
    },
    "papermill": {
     "duration": 0.08057,
     "end_time": "2025-08-18T20:17:41.462476",
     "exception": false,
     "start_time": "2025-08-18T20:17:41.381906",
     "status": "completed"
    },
    "tags": []
   },
   "outputs": [],
   "source": [
    "#new features about price and rate\n",
    "\"\"\"\n",
    " from (original price - selling price - discounted price)\n",
    "choose the min value \n",
    "choose the max value \n",
    "calculate the discount rate =  ((max - min) / max) * 100\n",
    "\n",
    "total_rate_score = content_rate_count * content_rate_avg\n",
    "\n",
    "media_review_ratio = content_review_wth_media_count / content_review_count\n",
    "\"\"\"\n",
    "\n",
    "price_cols = ['content_price_data_avg_original_price', 'content_price_data_avg_selling_price', 'content_price_data_avg_discounted_price']\n",
    "\n",
    "# Determine the min and max values out of the given price values\n",
    "content_price_data_summary = content_price_data_summary.with_columns([\n",
    "    (pl.max_horizontal(price_cols).alias('max_price')),\n",
    "    pl.min_horizontal(price_cols).alias(\"min_price\")\n",
    "    ])\n",
    "\n",
    "# From the min and max values, compute discount rate information value\n",
    "content_price_data_summary = content_price_data_summary.with_columns([\n",
    "    ((pl.col(\"max_price\") - pl.col(\"min_price\")) / pl.col(\"max_price\") * 100)\n",
    "    .alias(\"discount_rate\")\n",
    "])\n",
    "\n",
    "#create a total score feature from content count and content rate average values\n",
    "content_price_data_summary = content_price_data_summary.with_columns([\n",
    "    (pl.col(\"content_price_data_avg_content_rate_avg\") / pl.col(\"content_price_data_avg_content_rate_count\"))\n",
    "    .alias(\"total_rate_score\")\n",
    "])\n",
    "\n",
    "#create a media_rate feature from reviews with and without media file\n",
    "content_price_data_summary = content_price_data_summary.with_columns([\n",
    "    (pl.col(\"content_price_data_avg_content_review_wth_media_count\") / pl.col(\"content_price_data_avg_content_review_count\"))\n",
    "    .alias(\"media_review_ratio\")\n",
    "])\n",
    "\n",
    "# Remove the deprecated original_price, selling_price and discounted_price\n",
    "content_price_data_summary = content_price_data_summary.drop(['content_price_data_avg_original_price', 'content_price_data_avg_selling_price', 'content_price_data_avg_discounted_price'])"
   ]
  },
  {
   "cell_type": "code",
   "execution_count": 16,
   "id": "ba90c4f5",
   "metadata": {
    "execution": {
     "iopub.execute_input": "2025-08-18T20:17:41.474824Z",
     "iopub.status.busy": "2025-08-18T20:17:41.474485Z",
     "iopub.status.idle": "2025-08-18T20:17:41.481056Z",
     "shell.execute_reply": "2025-08-18T20:17:41.480097Z"
    },
    "papermill": {
     "duration": 0.01466,
     "end_time": "2025-08-18T20:17:41.482731",
     "exception": false,
     "start_time": "2025-08-18T20:17:41.468071",
     "status": "completed"
    },
    "tags": []
   },
   "outputs": [],
   "source": [
    "# Calculate ratio\n",
    "def add_ratios(df: pl.DataFrame, prefix: str):\n",
    "    return df.with_columns([\n",
    "        (pl.col(f\"{prefix}_total_click\") / pl.col(f\"{prefix}_total_cart\").clip(lower_bound=1e-6) / pl.col(f\"{prefix}_total_order\").clip(lower_bound=1e-6)).alias(f\"{prefix}_click_cart_order_ratio\"),\n",
    "        (pl.col(f\"{prefix}_total_click\") / pl.col(f\"{prefix}_total_cart\").clip(lower_bound=1e-6)).alias(f\"{prefix}_click_cart_ratio\"),\n",
    "        (pl.col(f\"{prefix}_total_click\") / pl.col(f\"{prefix}_total_order\").clip(lower_bound=1e-6)).alias(f\"{prefix}_click_order_ratio\"),\n",
    "    ])"
   ]
  },
  {
   "cell_type": "code",
   "execution_count": 17,
   "id": "7b2fc44d",
   "metadata": {
    "execution": {
     "iopub.execute_input": "2025-08-18T20:17:41.494852Z",
     "iopub.status.busy": "2025-08-18T20:17:41.494515Z",
     "iopub.status.idle": "2025-08-18T20:18:03.031331Z",
     "shell.execute_reply": "2025-08-18T20:18:03.030477Z"
    },
    "papermill": {
     "duration": 21.544941,
     "end_time": "2025-08-18T20:18:03.033138",
     "exception": false,
     "start_time": "2025-08-18T20:17:41.488197",
     "status": "completed"
    },
    "tags": []
   },
   "outputs": [],
   "source": [
    "# Apply the click_impression_ratio function to each column with search and impression value in it\n",
    "#content_top_terms_log = content_top_terms_log.with_columns(pl.col('content_total_search_click') / pl.col('content_total_search_impression')).alias(f'{prefix}_click_impresssion_ratio')\n",
    "\n",
    "# Rename column names so that they dont get similar to each other when joining\n",
    "content_top_terms_log_summary = calculate_click_impression_ratio(content_top_terms_log_summary, \"content_top_terms_log_avg\")\n",
    "user_top_terms_log_summary = calculate_click_impression_ratio(user_top_terms_log_summary, \"user_top_terms_log_avg\")\n",
    "user_fashion_search_log_summary = calculate_click_impression_ratio(user_fashion_search_log_summary, \"user_fashion_search_log_avg\")\n",
    "term_search_log_summary = calculate_click_impression_ratio(term_search_log_summary, \"term_search_log_avg\")"
   ]
  },
  {
   "cell_type": "code",
   "execution_count": 18,
   "id": "c805bcc8",
   "metadata": {
    "execution": {
     "iopub.execute_input": "2025-08-18T20:18:03.045981Z",
     "iopub.status.busy": "2025-08-18T20:18:03.045512Z",
     "iopub.status.idle": "2025-08-18T20:18:03.095282Z",
     "shell.execute_reply": "2025-08-18T20:18:03.094253Z"
    },
    "papermill": {
     "duration": 0.058205,
     "end_time": "2025-08-18T20:18:03.097228",
     "exception": false,
     "start_time": "2025-08-18T20:18:03.039023",
     "status": "completed"
    },
    "tags": []
   },
   "outputs": [
    {
     "data": {
      "text/html": [
       "<div><style>\n",
       ".dataframe > thead > tr,\n",
       ".dataframe > tbody > tr {\n",
       "  text-align: right;\n",
       "  white-space: pre-wrap;\n",
       "}\n",
       "</style>\n",
       "<small>shape: (5, 4)</small><table border=\"1\" class=\"dataframe\"><thead><tr><th>user_id_hashed</th><th>user_age</th><th>user_tenure_in_years</th><th>user_gender_encoded</th></tr><tr><td>str</td><td>f64</td><td>f64</td><td>i8</td></tr></thead><tbody><tr><td>&quot;94238d723579f0bd&quot;</td><td>33.0</td><td>7.0</td><td>1</td></tr><tr><td>&quot;b041bad2ad93c114&quot;</td><td>27.0</td><td>2.0</td><td>0</td></tr><tr><td>&quot;90361194b60e5f3b&quot;</td><td>29.0</td><td>5.0</td><td>1</td></tr><tr><td>&quot;e570ed7193aa197a&quot;</td><td>46.0</td><td>5.0</td><td>1</td></tr><tr><td>&quot;f71c3c802b3934a1&quot;</td><td>38.0</td><td>4.0</td><td>0</td></tr></tbody></table></div>"
      ],
      "text/plain": [
       "shape: (5, 4)\n",
       "┌──────────────────┬──────────┬──────────────────────┬─────────────────────┐\n",
       "│ user_id_hashed   ┆ user_age ┆ user_tenure_in_years ┆ user_gender_encoded │\n",
       "│ ---              ┆ ---      ┆ ---                  ┆ ---                 │\n",
       "│ str              ┆ f64      ┆ f64                  ┆ i8                  │\n",
       "╞══════════════════╪══════════╪══════════════════════╪═════════════════════╡\n",
       "│ 94238d723579f0bd ┆ 33.0     ┆ 7.0                  ┆ 1                   │\n",
       "│ b041bad2ad93c114 ┆ 27.0     ┆ 2.0                  ┆ 0                   │\n",
       "│ 90361194b60e5f3b ┆ 29.0     ┆ 5.0                  ┆ 1                   │\n",
       "│ e570ed7193aa197a ┆ 46.0     ┆ 5.0                  ┆ 1                   │\n",
       "│ f71c3c802b3934a1 ┆ 38.0     ┆ 4.0                  ┆ 0                   │\n",
       "└──────────────────┴──────────┴──────────────────────┴─────────────────────┘"
      ]
     },
     "execution_count": 18,
     "metadata": {},
     "output_type": "execute_result"
    }
   ],
   "source": [
    "# Transform user birth year to user age information\n",
    "user_metadata = user_metadata.with_columns(\n",
    "    (pl.lit(2025.0) - pl.col('user_birth_year')).alias('user_age')\n",
    ")\n",
    "\n",
    "# Transform user tenure in days to user tenure in years\n",
    "user_metadata = user_metadata.with_columns(\n",
    "    (pl.col('user_tenure_in_days').alias('user_tenure_in_years') // 365.25)\n",
    ")\n",
    "\n",
    "# Remove the deprecated user birth year and user tenure in days informations\n",
    "user_metadata = user_metadata.drop(['user_birth_year', 'user_tenure_in_days'])\n",
    "\n",
    "# Define the gender map for encoding gender information\n",
    "gender_map = {\n",
    "    \"Bayan\": 1,\n",
    "    \"Bay\": -1,\n",
    "    \"UNKNOWN\": 0\n",
    "}\n",
    "\n",
    "# Gender encode operation\n",
    "df_user_metadata = user_metadata.with_columns(\n",
    "    pl.col(\"user_gender\").replace(gender_map).cast(pl.Int8).alias(\"user_gender_encoded\")\n",
    ")\n",
    "# Remove the deprecated user gender information in string\n",
    "df_user_metadata = df_user_metadata.drop('user_gender')\n",
    "\n",
    "df_user_metadata.head()"
   ]
  },
  {
   "cell_type": "code",
   "execution_count": 19,
   "id": "37415431",
   "metadata": {
    "execution": {
     "iopub.execute_input": "2025-08-18T20:18:03.110887Z",
     "iopub.status.busy": "2025-08-18T20:18:03.110554Z",
     "iopub.status.idle": "2025-08-18T20:18:03.314592Z",
     "shell.execute_reply": "2025-08-18T20:18:03.313470Z"
    },
    "papermill": {
     "duration": 0.213042,
     "end_time": "2025-08-18T20:18:03.316438",
     "exception": false,
     "start_time": "2025-08-18T20:18:03.103396",
     "status": "completed"
    },
    "tags": []
   },
   "outputs": [],
   "source": [
    "train_sessions = train_sessions.with_columns(train_sessions[\"ts_hour\"].cast(pl.Date).alias(\"ts_date\"))\n",
    "test_sessions = test_sessions.with_columns(test_sessions[\"ts_hour\"].cast(pl.Date).alias(\"ts_date\"))\n",
    "content_price_data_summary = content_price_data_summary.with_columns(content_price_data_summary[\"content_price_data_avg_update_date\"].cast(pl.Date).alias(\"ts_date\"))"
   ]
  },
  {
   "cell_type": "code",
   "execution_count": 20,
   "id": "9c78767f",
   "metadata": {
    "execution": {
     "iopub.execute_input": "2025-08-18T20:18:03.330148Z",
     "iopub.status.busy": "2025-08-18T20:18:03.329841Z",
     "iopub.status.idle": "2025-08-18T20:18:04.218659Z",
     "shell.execute_reply": "2025-08-18T20:18:04.217636Z"
    },
    "papermill": {
     "duration": 0.897697,
     "end_time": "2025-08-18T20:18:04.220481",
     "exception": false,
     "start_time": "2025-08-18T20:18:03.322784",
     "status": "completed"
    },
    "tags": []
   },
   "outputs": [],
   "source": [
    "# Oran kolonlarını ekliyorum\n",
    "user_sitewide_log_summary = add_ratios(user_sitewide_log_summary, \"user_sitewide_avg\")\n",
    "user_fashion_sitewide_log_summary = add_ratios(user_fashion_sitewide_log_summary, \"user_fashion_sitewide_avg\")\n",
    "\n",
    "content_sitewide_log_summary = add_ratios(content_sitewide_log_summary, \"content_sitewide_avg\")"
   ]
  },
  {
   "cell_type": "code",
   "execution_count": 21,
   "id": "4df28578",
   "metadata": {
    "execution": {
     "iopub.execute_input": "2025-08-18T20:18:04.233243Z",
     "iopub.status.busy": "2025-08-18T20:18:04.232912Z",
     "iopub.status.idle": "2025-08-18T20:19:03.543399Z",
     "shell.execute_reply": "2025-08-18T20:19:03.542036Z"
    },
    "papermill": {
     "duration": 59.319654,
     "end_time": "2025-08-18T20:19:03.545805",
     "exception": false,
     "start_time": "2025-08-18T20:18:04.226151",
     "status": "completed"
    },
    "tags": []
   },
   "outputs": [],
   "source": [
    "train_sessions = (\n",
    "    train_sessions\n",
    "    .join(content_metadata, on=[\"content_id_hashed\"], how=\"left\")\n",
    "    .join(content_price_data_summary, on=[\"content_id_hashed\"], how=\"left\")\n",
    "    .join(df_user_metadata, on=[\"user_id_hashed\"], how=\"left\")\n",
    "    .join(user_sitewide_log_summary, on=[\"user_id_hashed\"], how=\"left\")\n",
    "    .join(user_fashion_sitewide_log_summary, on=[\"user_id_hashed\", \"content_id_hashed\"], how=\"left\")\n",
    "    .join(content_sitewide_log_summary, on=[\"content_id_hashed\"], how=\"left\")\n",
    "    .join(content_top_terms_log_summary, on=[\"content_id_hashed\", \"search_term_normalized\"], how=\"left\")\n",
    "    .join(user_top_terms_log_summary, on=[\"user_id_hashed\", \"search_term_normalized\"], how=\"left\")\n",
    "    .join(user_fashion_search_log_summary, on=[\"user_id_hashed\", \"content_id_hashed\"], how=\"left\")\n",
    "    .join(term_search_log_summary, on=[\"search_term_normalized\"], how=\"left\")\n",
    ")\n",
    "\n",
    "test_sessions = (\n",
    "    test_sessions\n",
    "    .join(content_metadata, on=[\"content_id_hashed\"], how=\"left\")\n",
    "    .join(content_price_data_summary, on=[\"content_id_hashed\"], how=\"left\")\n",
    "    .join(df_user_metadata, on=[\"user_id_hashed\"], how=\"left\")\n",
    "    .join(user_sitewide_log_summary, on=[\"user_id_hashed\"], how=\"left\")\n",
    "    .join(user_fashion_sitewide_log_summary, on=[\"user_id_hashed\", \"content_id_hashed\"], how=\"left\")\n",
    "    .join(content_sitewide_log_summary, on=[\"content_id_hashed\"], how=\"left\")\n",
    "    .join(content_top_terms_log_summary, on=[\"content_id_hashed\", \"search_term_normalized\"], how=\"left\")\n",
    "    .join(user_top_terms_log_summary, on=[\"user_id_hashed\", \"search_term_normalized\"], how=\"left\")\n",
    "    .join(user_fashion_search_log_summary, on=[\"user_id_hashed\", \"content_id_hashed\"], how=\"left\")\n",
    "    .join(term_search_log_summary, on=[\"search_term_normalized\"], how=\"left\")\n",
    ")"
   ]
  },
  {
   "cell_type": "code",
   "execution_count": 22,
   "id": "3969023b",
   "metadata": {
    "execution": {
     "iopub.execute_input": "2025-08-18T20:19:03.561033Z",
     "iopub.status.busy": "2025-08-18T20:19:03.560661Z",
     "iopub.status.idle": "2025-08-18T20:19:52.399391Z",
     "shell.execute_reply": "2025-08-18T20:19:52.398132Z"
    },
    "papermill": {
     "duration": 48.854548,
     "end_time": "2025-08-18T20:19:52.407048",
     "exception": false,
     "start_time": "2025-08-18T20:19:03.552500",
     "status": "completed"
    },
    "tags": []
   },
   "outputs": [
    {
     "data": {
      "text/html": [
       "<style>#sk-container-id-1 {color: black;background-color: white;}#sk-container-id-1 pre{padding: 0;}#sk-container-id-1 div.sk-toggleable {background-color: white;}#sk-container-id-1 label.sk-toggleable__label {cursor: pointer;display: block;width: 100%;margin-bottom: 0;padding: 0.3em;box-sizing: border-box;text-align: center;}#sk-container-id-1 label.sk-toggleable__label-arrow:before {content: \"▸\";float: left;margin-right: 0.25em;color: #696969;}#sk-container-id-1 label.sk-toggleable__label-arrow:hover:before {color: black;}#sk-container-id-1 div.sk-estimator:hover label.sk-toggleable__label-arrow:before {color: black;}#sk-container-id-1 div.sk-toggleable__content {max-height: 0;max-width: 0;overflow: hidden;text-align: left;background-color: #f0f8ff;}#sk-container-id-1 div.sk-toggleable__content pre {margin: 0.2em;color: black;border-radius: 0.25em;background-color: #f0f8ff;}#sk-container-id-1 input.sk-toggleable__control:checked~div.sk-toggleable__content {max-height: 200px;max-width: 100%;overflow: auto;}#sk-container-id-1 input.sk-toggleable__control:checked~label.sk-toggleable__label-arrow:before {content: \"▾\";}#sk-container-id-1 div.sk-estimator input.sk-toggleable__control:checked~label.sk-toggleable__label {background-color: #d4ebff;}#sk-container-id-1 div.sk-label input.sk-toggleable__control:checked~label.sk-toggleable__label {background-color: #d4ebff;}#sk-container-id-1 input.sk-hidden--visually {border: 0;clip: rect(1px 1px 1px 1px);clip: rect(1px, 1px, 1px, 1px);height: 1px;margin: -1px;overflow: hidden;padding: 0;position: absolute;width: 1px;}#sk-container-id-1 div.sk-estimator {font-family: monospace;background-color: #f0f8ff;border: 1px dotted black;border-radius: 0.25em;box-sizing: border-box;margin-bottom: 0.5em;}#sk-container-id-1 div.sk-estimator:hover {background-color: #d4ebff;}#sk-container-id-1 div.sk-parallel-item::after {content: \"\";width: 100%;border-bottom: 1px solid gray;flex-grow: 1;}#sk-container-id-1 div.sk-label:hover label.sk-toggleable__label {background-color: #d4ebff;}#sk-container-id-1 div.sk-serial::before {content: \"\";position: absolute;border-left: 1px solid gray;box-sizing: border-box;top: 0;bottom: 0;left: 50%;z-index: 0;}#sk-container-id-1 div.sk-serial {display: flex;flex-direction: column;align-items: center;background-color: white;padding-right: 0.2em;padding-left: 0.2em;position: relative;}#sk-container-id-1 div.sk-item {position: relative;z-index: 1;}#sk-container-id-1 div.sk-parallel {display: flex;align-items: stretch;justify-content: center;background-color: white;position: relative;}#sk-container-id-1 div.sk-item::before, #sk-container-id-1 div.sk-parallel-item::before {content: \"\";position: absolute;border-left: 1px solid gray;box-sizing: border-box;top: 0;bottom: 0;left: 50%;z-index: -1;}#sk-container-id-1 div.sk-parallel-item {display: flex;flex-direction: column;z-index: 1;position: relative;background-color: white;}#sk-container-id-1 div.sk-parallel-item:first-child::after {align-self: flex-end;width: 50%;}#sk-container-id-1 div.sk-parallel-item:last-child::after {align-self: flex-start;width: 50%;}#sk-container-id-1 div.sk-parallel-item:only-child::after {width: 0;}#sk-container-id-1 div.sk-dashed-wrapped {border: 1px dashed gray;margin: 0 0.4em 0.5em 0.4em;box-sizing: border-box;padding-bottom: 0.4em;background-color: white;}#sk-container-id-1 div.sk-label label {font-family: monospace;font-weight: bold;display: inline-block;line-height: 1.2em;}#sk-container-id-1 div.sk-label-container {text-align: center;}#sk-container-id-1 div.sk-container {/* jupyter's `normalize.less` sets `[hidden] { display: none; }` but bootstrap.min.css set `[hidden] { display: none !important; }` so we also need the `!important` here to be able to override the default hidden behavior on the sphinx rendered scikit-learn.org. See: https://github.com/scikit-learn/scikit-learn/issues/21755 */display: inline-block !important;position: relative;}#sk-container-id-1 div.sk-text-repr-fallback {display: none;}</style><div id=\"sk-container-id-1\" class=\"sk-top-container\"><div class=\"sk-text-repr-fallback\"><pre>LGBMClassifier(bagging_fraction=0.9106145615289158,\n",
       "               feature_fraction=0.3655838442409418,\n",
       "               lambda_l1=0.5382833996798397, lambda_l2=1.7851561926187207,\n",
       "               max_depth=5, metric=&#x27;auc&#x27;, min_child_weight=28.034408570615987,\n",
       "               min_split_gain=0.053451918857089345, num_leaves=42,\n",
       "               objective=&#x27;binary&#x27;, random_state=7, verbose=-1)</pre><b>In a Jupyter environment, please rerun this cell to show the HTML representation or trust the notebook. <br />On GitHub, the HTML representation is unable to render, please try loading this page with nbviewer.org.</b></div><div class=\"sk-container\" hidden><div class=\"sk-item\"><div class=\"sk-estimator sk-toggleable\"><input class=\"sk-toggleable__control sk-hidden--visually\" id=\"sk-estimator-id-1\" type=\"checkbox\" checked><label for=\"sk-estimator-id-1\" class=\"sk-toggleable__label sk-toggleable__label-arrow\">LGBMClassifier</label><div class=\"sk-toggleable__content\"><pre>LGBMClassifier(bagging_fraction=0.9106145615289158,\n",
       "               feature_fraction=0.3655838442409418,\n",
       "               lambda_l1=0.5382833996798397, lambda_l2=1.7851561926187207,\n",
       "               max_depth=5, metric=&#x27;auc&#x27;, min_child_weight=28.034408570615987,\n",
       "               min_split_gain=0.053451918857089345, num_leaves=42,\n",
       "               objective=&#x27;binary&#x27;, random_state=7, verbose=-1)</pre></div></div></div></div></div>"
      ],
      "text/plain": [
       "LGBMClassifier(bagging_fraction=0.9106145615289158,\n",
       "               feature_fraction=0.3655838442409418,\n",
       "               lambda_l1=0.5382833996798397, lambda_l2=1.7851561926187207,\n",
       "               max_depth=5, metric='auc', min_child_weight=28.034408570615987,\n",
       "               min_split_gain=0.053451918857089345, num_leaves=42,\n",
       "               objective='binary', random_state=7, verbose=-1)"
      ]
     },
     "execution_count": 22,
     "metadata": {},
     "output_type": "execute_result"
    }
   ],
   "source": [
    "import lightgbm as lgb\n",
    "\n",
    "# Define the columns to be used for train data\n",
    "train_data_ordered = train_sessions.select([\n",
    "    \"ordered\", \"content_price_data_avg_content_review_count\", \"content_price_data_avg_content_review_wth_media_count\",\n",
    "    \"content_price_data_avg_content_rate_count\", \"content_price_data_avg_content_rate_avg\", \"max_price\", \"min_price\", \"discount_rate\", \"total_rate_score\",\n",
    "    \"media_review_ratio\", \"attribute_type_count\", \n",
    "    \"total_attribute_option_count\", \"merchant_count\", \"filterable_label_count\",\n",
    "    \"user_age\", \"user_tenure_in_years\",\n",
    "    \"user_gender_encoded\", \"user_sitewide_avg_total_click\", \n",
    "    \"user_sitewide_avg_total_cart\", \"user_sitewide_avg_total_fav\", \"user_sitewide_avg_total_order\",\n",
    "    \"user_sitewide_avg_click_cart_order_ratio\", \"user_sitewide_avg_click_cart_ratio\", \n",
    "    \"user_sitewide_avg_click_order_ratio\", \"user_fashion_sitewide_avg_total_click\", \n",
    "    \"user_fashion_sitewide_avg_total_cart\",\"user_fashion_sitewide_avg_total_fav\", \n",
    "    \"user_fashion_sitewide_avg_total_order\", \"user_fashion_sitewide_avg_click_cart_order_ratio\", \n",
    "    \"user_fashion_sitewide_avg_click_cart_ratio\", \"user_fashion_sitewide_avg_click_order_ratio\",\n",
    "    \"content_sitewide_avg_total_click\", \"content_sitewide_avg_total_cart\",\"content_sitewide_avg_total_fav\", \n",
    "    \"content_sitewide_avg_total_order\", \"content_sitewide_avg_click_cart_order_ratio\", \n",
    "    \"content_sitewide_avg_click_cart_ratio\", \"content_sitewide_avg_click_order_ratio\",\n",
    "    \"content_top_terms_log_avg_total_search_click\", \"content_top_terms_log_avg_total_search_impression\", \"content_top_terms_log_avg_click_impression_ratio\",\n",
    "    \"user_top_terms_log_avg_total_search_click\", \"user_top_terms_log_avg_total_search_impression\", \"user_top_terms_log_avg_click_impression_ratio\",\n",
    "    \"user_fashion_search_log_avg_total_search_click\", \"user_fashion_search_log_avg_total_search_impression\", \"user_fashion_search_log_avg_click_impression_ratio\",\n",
    "    \"term_search_log_avg_total_search_click\", \"term_search_log_avg_total_search_impression\", \"term_search_log_avg_click_impression_ratio\"\n",
    "    ])\n",
    "\n",
    "# Separate the train data to X and Y values\n",
    "train_X_ordered = train_data_ordered.drop(\"ordered\").to_pandas()\n",
    "train_y_ordered = train_data_ordered[\"ordered\"].to_pandas()\n",
    "\n",
    "# Define the parameters for the LightGBM model\n",
    "best_params = {\n",
    "    'num_leaves': int(42.75006318015603),       # 42\n",
    "    'feature_fraction': 0.3655838442409418,\n",
    "    'bagging_fraction': 0.9106145615289158,\n",
    "    'max_depth': int(5.166369536643747),        # 5\n",
    "    'lambda_l1': 0.5382833996798397,\n",
    "    'lambda_l2': 1.7851561926187207,\n",
    "    'min_split_gain': 0.053451918857089345,\n",
    "    'min_child_weight': 28.034408570615987\n",
    "}\n",
    "\n",
    "params = {\n",
    "    'objective': 'binary',\n",
    "    'metric': 'auc',\n",
    "    'boosting_type': 'gbdt',\n",
    "    'verbose': -1,\n",
    "    'random_state': 7,\n",
    "    **best_params\n",
    "}\n",
    "\n",
    "model_ordered = lgb.LGBMClassifier(**params)\n",
    "model_ordered.fit(train_X_ordered, train_y_ordered)"
   ]
  },
  {
   "cell_type": "code",
   "execution_count": 23,
   "id": "0beb6613",
   "metadata": {
    "execution": {
     "iopub.execute_input": "2025-08-18T20:19:52.420972Z",
     "iopub.status.busy": "2025-08-18T20:19:52.419637Z",
     "iopub.status.idle": "2025-08-18T20:20:25.337252Z",
     "shell.execute_reply": "2025-08-18T20:20:25.336087Z"
    },
    "papermill": {
     "duration": 32.933471,
     "end_time": "2025-08-18T20:20:25.346146",
     "exception": false,
     "start_time": "2025-08-18T20:19:52.412675",
     "status": "completed"
    },
    "tags": []
   },
   "outputs": [
    {
     "data": {
      "text/html": [
       "<style>#sk-container-id-2 {color: black;background-color: white;}#sk-container-id-2 pre{padding: 0;}#sk-container-id-2 div.sk-toggleable {background-color: white;}#sk-container-id-2 label.sk-toggleable__label {cursor: pointer;display: block;width: 100%;margin-bottom: 0;padding: 0.3em;box-sizing: border-box;text-align: center;}#sk-container-id-2 label.sk-toggleable__label-arrow:before {content: \"▸\";float: left;margin-right: 0.25em;color: #696969;}#sk-container-id-2 label.sk-toggleable__label-arrow:hover:before {color: black;}#sk-container-id-2 div.sk-estimator:hover label.sk-toggleable__label-arrow:before {color: black;}#sk-container-id-2 div.sk-toggleable__content {max-height: 0;max-width: 0;overflow: hidden;text-align: left;background-color: #f0f8ff;}#sk-container-id-2 div.sk-toggleable__content pre {margin: 0.2em;color: black;border-radius: 0.25em;background-color: #f0f8ff;}#sk-container-id-2 input.sk-toggleable__control:checked~div.sk-toggleable__content {max-height: 200px;max-width: 100%;overflow: auto;}#sk-container-id-2 input.sk-toggleable__control:checked~label.sk-toggleable__label-arrow:before {content: \"▾\";}#sk-container-id-2 div.sk-estimator input.sk-toggleable__control:checked~label.sk-toggleable__label {background-color: #d4ebff;}#sk-container-id-2 div.sk-label input.sk-toggleable__control:checked~label.sk-toggleable__label {background-color: #d4ebff;}#sk-container-id-2 input.sk-hidden--visually {border: 0;clip: rect(1px 1px 1px 1px);clip: rect(1px, 1px, 1px, 1px);height: 1px;margin: -1px;overflow: hidden;padding: 0;position: absolute;width: 1px;}#sk-container-id-2 div.sk-estimator {font-family: monospace;background-color: #f0f8ff;border: 1px dotted black;border-radius: 0.25em;box-sizing: border-box;margin-bottom: 0.5em;}#sk-container-id-2 div.sk-estimator:hover {background-color: #d4ebff;}#sk-container-id-2 div.sk-parallel-item::after {content: \"\";width: 100%;border-bottom: 1px solid gray;flex-grow: 1;}#sk-container-id-2 div.sk-label:hover label.sk-toggleable__label {background-color: #d4ebff;}#sk-container-id-2 div.sk-serial::before {content: \"\";position: absolute;border-left: 1px solid gray;box-sizing: border-box;top: 0;bottom: 0;left: 50%;z-index: 0;}#sk-container-id-2 div.sk-serial {display: flex;flex-direction: column;align-items: center;background-color: white;padding-right: 0.2em;padding-left: 0.2em;position: relative;}#sk-container-id-2 div.sk-item {position: relative;z-index: 1;}#sk-container-id-2 div.sk-parallel {display: flex;align-items: stretch;justify-content: center;background-color: white;position: relative;}#sk-container-id-2 div.sk-item::before, #sk-container-id-2 div.sk-parallel-item::before {content: \"\";position: absolute;border-left: 1px solid gray;box-sizing: border-box;top: 0;bottom: 0;left: 50%;z-index: -1;}#sk-container-id-2 div.sk-parallel-item {display: flex;flex-direction: column;z-index: 1;position: relative;background-color: white;}#sk-container-id-2 div.sk-parallel-item:first-child::after {align-self: flex-end;width: 50%;}#sk-container-id-2 div.sk-parallel-item:last-child::after {align-self: flex-start;width: 50%;}#sk-container-id-2 div.sk-parallel-item:only-child::after {width: 0;}#sk-container-id-2 div.sk-dashed-wrapped {border: 1px dashed gray;margin: 0 0.4em 0.5em 0.4em;box-sizing: border-box;padding-bottom: 0.4em;background-color: white;}#sk-container-id-2 div.sk-label label {font-family: monospace;font-weight: bold;display: inline-block;line-height: 1.2em;}#sk-container-id-2 div.sk-label-container {text-align: center;}#sk-container-id-2 div.sk-container {/* jupyter's `normalize.less` sets `[hidden] { display: none; }` but bootstrap.min.css set `[hidden] { display: none !important; }` so we also need the `!important` here to be able to override the default hidden behavior on the sphinx rendered scikit-learn.org. See: https://github.com/scikit-learn/scikit-learn/issues/21755 */display: inline-block !important;position: relative;}#sk-container-id-2 div.sk-text-repr-fallback {display: none;}</style><div id=\"sk-container-id-2\" class=\"sk-top-container\"><div class=\"sk-text-repr-fallback\"><pre>LGBMClassifier(bagging_fraction=1.0, feature_fraction=0.9,\n",
       "               lambda_l1=4.682851969380666, lambda_l2=1.0868114611097193,\n",
       "               max_depth=8, metric=&#x27;auc&#x27;, min_child_weight=28.161955204255598,\n",
       "               min_split_gain=0.001, num_leaves=29, objective=&#x27;binary&#x27;,\n",
       "               random_state=7, verbose=-1)</pre><b>In a Jupyter environment, please rerun this cell to show the HTML representation or trust the notebook. <br />On GitHub, the HTML representation is unable to render, please try loading this page with nbviewer.org.</b></div><div class=\"sk-container\" hidden><div class=\"sk-item\"><div class=\"sk-estimator sk-toggleable\"><input class=\"sk-toggleable__control sk-hidden--visually\" id=\"sk-estimator-id-2\" type=\"checkbox\" checked><label for=\"sk-estimator-id-2\" class=\"sk-toggleable__label sk-toggleable__label-arrow\">LGBMClassifier</label><div class=\"sk-toggleable__content\"><pre>LGBMClassifier(bagging_fraction=1.0, feature_fraction=0.9,\n",
       "               lambda_l1=4.682851969380666, lambda_l2=1.0868114611097193,\n",
       "               max_depth=8, metric=&#x27;auc&#x27;, min_child_weight=28.161955204255598,\n",
       "               min_split_gain=0.001, num_leaves=29, objective=&#x27;binary&#x27;,\n",
       "               random_state=7, verbose=-1)</pre></div></div></div></div></div>"
      ],
      "text/plain": [
       "LGBMClassifier(bagging_fraction=1.0, feature_fraction=0.9,\n",
       "               lambda_l1=4.682851969380666, lambda_l2=1.0868114611097193,\n",
       "               max_depth=8, metric='auc', min_child_weight=28.161955204255598,\n",
       "               min_split_gain=0.001, num_leaves=29, objective='binary',\n",
       "               random_state=7, verbose=-1)"
      ]
     },
     "execution_count": 23,
     "metadata": {},
     "output_type": "execute_result"
    }
   ],
   "source": [
    "# Define the columns to be used for train data\n",
    "train_data_clicked = train_sessions.select([\n",
    "    \"clicked\", \"content_price_data_avg_content_review_count\", \"content_price_data_avg_content_review_wth_media_count\",\n",
    "    \"content_price_data_avg_content_rate_count\", \"content_price_data_avg_content_rate_avg\", \"max_price\", \"min_price\", \"discount_rate\", \"total_rate_score\",\n",
    "    \"media_review_ratio\", \"attribute_type_count\", \n",
    "    \"total_attribute_option_count\", \"merchant_count\", \"filterable_label_count\",\n",
    "    \"user_age\", \"user_tenure_in_years\",\n",
    "    \"user_gender_encoded\", \"user_sitewide_avg_total_click\", \n",
    "    \"user_sitewide_avg_total_cart\", \"user_sitewide_avg_total_fav\", \"user_sitewide_avg_total_order\",\n",
    "    \"user_sitewide_avg_click_cart_order_ratio\", \"user_sitewide_avg_click_cart_ratio\", \n",
    "    \"user_sitewide_avg_click_order_ratio\", \"user_fashion_sitewide_avg_total_click\", \n",
    "    \"user_fashion_sitewide_avg_total_cart\",\"user_fashion_sitewide_avg_total_fav\", \n",
    "    \"user_fashion_sitewide_avg_total_order\", \"user_fashion_sitewide_avg_click_cart_order_ratio\", \n",
    "    \"user_fashion_sitewide_avg_click_cart_ratio\", \"user_fashion_sitewide_avg_click_order_ratio\",\n",
    "    \"content_sitewide_avg_total_click\", \"content_sitewide_avg_total_cart\",\"content_sitewide_avg_total_fav\", \n",
    "    \"content_sitewide_avg_total_order\", \"content_sitewide_avg_click_cart_order_ratio\", \n",
    "    \"content_sitewide_avg_click_cart_ratio\", \"content_sitewide_avg_click_order_ratio\",\n",
    "    \"content_top_terms_log_avg_total_search_click\", \"content_top_terms_log_avg_total_search_impression\", \"content_top_terms_log_avg_click_impression_ratio\",\n",
    "    \"user_top_terms_log_avg_total_search_click\", \"user_top_terms_log_avg_total_search_impression\", \"user_top_terms_log_avg_click_impression_ratio\",\n",
    "    \"user_fashion_search_log_avg_total_search_click\", \"user_fashion_search_log_avg_total_search_impression\", \"user_fashion_search_log_avg_click_impression_ratio\",\n",
    "    \"term_search_log_avg_total_search_click\", \"term_search_log_avg_total_search_impression\", \"term_search_log_avg_click_impression_ratio\"\n",
    "    ])\n",
    "\n",
    "# Separate the train data to X and Y values\n",
    "train_X_clicked = train_data_clicked.drop(\"clicked\").to_pandas()\n",
    "train_y_clicked = train_data_clicked[\"clicked\"].to_pandas()\n",
    "\n",
    "# Define the parameters for the LightGBM model\n",
    "best_params = {\n",
    "    'num_leaves': int(29.444871248515597),\n",
    "    'feature_fraction': 0.9,\n",
    "    'bagging_fraction': 1.0,\n",
    "    'max_depth': int(8.551469766095197),\n",
    "    'lambda_l1': 4.682851969380666,\n",
    "    'lambda_l2': 1.0868114611097193,\n",
    "    'min_split_gain': 0.001,\n",
    "    'min_child_weight': 28.161955204255598\n",
    "}\n",
    "\n",
    "params = {\n",
    "    'objective': 'binary',\n",
    "    'metric': 'auc',\n",
    "    'boosting_type': 'gbdt',\n",
    "    'verbose': -1,\n",
    "    'random_state': 7,\n",
    "    **best_params\n",
    "}\n",
    "model_clicked = lgb.LGBMClassifier(**params)\n",
    "model_clicked.fit(train_X_clicked, train_y_clicked)"
   ]
  },
  {
   "cell_type": "code",
   "execution_count": 24,
   "id": "bcd0b439",
   "metadata": {
    "execution": {
     "iopub.execute_input": "2025-08-18T20:20:25.359854Z",
     "iopub.status.busy": "2025-08-18T20:20:25.359487Z",
     "iopub.status.idle": "2025-08-18T20:21:00.691184Z",
     "shell.execute_reply": "2025-08-18T20:21:00.689949Z"
    },
    "papermill": {
     "duration": 35.347516,
     "end_time": "2025-08-18T20:21:00.699659",
     "exception": false,
     "start_time": "2025-08-18T20:20:25.352143",
     "status": "completed"
    },
    "tags": []
   },
   "outputs": [
    {
     "data": {
      "text/html": [
       "<style>#sk-container-id-3 {color: black;background-color: white;}#sk-container-id-3 pre{padding: 0;}#sk-container-id-3 div.sk-toggleable {background-color: white;}#sk-container-id-3 label.sk-toggleable__label {cursor: pointer;display: block;width: 100%;margin-bottom: 0;padding: 0.3em;box-sizing: border-box;text-align: center;}#sk-container-id-3 label.sk-toggleable__label-arrow:before {content: \"▸\";float: left;margin-right: 0.25em;color: #696969;}#sk-container-id-3 label.sk-toggleable__label-arrow:hover:before {color: black;}#sk-container-id-3 div.sk-estimator:hover label.sk-toggleable__label-arrow:before {color: black;}#sk-container-id-3 div.sk-toggleable__content {max-height: 0;max-width: 0;overflow: hidden;text-align: left;background-color: #f0f8ff;}#sk-container-id-3 div.sk-toggleable__content pre {margin: 0.2em;color: black;border-radius: 0.25em;background-color: #f0f8ff;}#sk-container-id-3 input.sk-toggleable__control:checked~div.sk-toggleable__content {max-height: 200px;max-width: 100%;overflow: auto;}#sk-container-id-3 input.sk-toggleable__control:checked~label.sk-toggleable__label-arrow:before {content: \"▾\";}#sk-container-id-3 div.sk-estimator input.sk-toggleable__control:checked~label.sk-toggleable__label {background-color: #d4ebff;}#sk-container-id-3 div.sk-label input.sk-toggleable__control:checked~label.sk-toggleable__label {background-color: #d4ebff;}#sk-container-id-3 input.sk-hidden--visually {border: 0;clip: rect(1px 1px 1px 1px);clip: rect(1px, 1px, 1px, 1px);height: 1px;margin: -1px;overflow: hidden;padding: 0;position: absolute;width: 1px;}#sk-container-id-3 div.sk-estimator {font-family: monospace;background-color: #f0f8ff;border: 1px dotted black;border-radius: 0.25em;box-sizing: border-box;margin-bottom: 0.5em;}#sk-container-id-3 div.sk-estimator:hover {background-color: #d4ebff;}#sk-container-id-3 div.sk-parallel-item::after {content: \"\";width: 100%;border-bottom: 1px solid gray;flex-grow: 1;}#sk-container-id-3 div.sk-label:hover label.sk-toggleable__label {background-color: #d4ebff;}#sk-container-id-3 div.sk-serial::before {content: \"\";position: absolute;border-left: 1px solid gray;box-sizing: border-box;top: 0;bottom: 0;left: 50%;z-index: 0;}#sk-container-id-3 div.sk-serial {display: flex;flex-direction: column;align-items: center;background-color: white;padding-right: 0.2em;padding-left: 0.2em;position: relative;}#sk-container-id-3 div.sk-item {position: relative;z-index: 1;}#sk-container-id-3 div.sk-parallel {display: flex;align-items: stretch;justify-content: center;background-color: white;position: relative;}#sk-container-id-3 div.sk-item::before, #sk-container-id-3 div.sk-parallel-item::before {content: \"\";position: absolute;border-left: 1px solid gray;box-sizing: border-box;top: 0;bottom: 0;left: 50%;z-index: -1;}#sk-container-id-3 div.sk-parallel-item {display: flex;flex-direction: column;z-index: 1;position: relative;background-color: white;}#sk-container-id-3 div.sk-parallel-item:first-child::after {align-self: flex-end;width: 50%;}#sk-container-id-3 div.sk-parallel-item:last-child::after {align-self: flex-start;width: 50%;}#sk-container-id-3 div.sk-parallel-item:only-child::after {width: 0;}#sk-container-id-3 div.sk-dashed-wrapped {border: 1px dashed gray;margin: 0 0.4em 0.5em 0.4em;box-sizing: border-box;padding-bottom: 0.4em;background-color: white;}#sk-container-id-3 div.sk-label label {font-family: monospace;font-weight: bold;display: inline-block;line-height: 1.2em;}#sk-container-id-3 div.sk-label-container {text-align: center;}#sk-container-id-3 div.sk-container {/* jupyter's `normalize.less` sets `[hidden] { display: none; }` but bootstrap.min.css set `[hidden] { display: none !important; }` so we also need the `!important` here to be able to override the default hidden behavior on the sphinx rendered scikit-learn.org. See: https://github.com/scikit-learn/scikit-learn/issues/21755 */display: inline-block !important;position: relative;}#sk-container-id-3 div.sk-text-repr-fallback {display: none;}</style><div id=\"sk-container-id-3\" class=\"sk-top-container\"><div class=\"sk-text-repr-fallback\"><pre>LGBMClassifier(bagging_fraction=0.7995029565695583,\n",
       "               feature_fraction=0.6370475455514243, lambda_l1=4.686747673224523,\n",
       "               lambda_l2=1.0554293056191062, max_depth=7, metric=&#x27;auc&#x27;,\n",
       "               min_child_weight=27.135987997022514,\n",
       "               min_split_gain=0.026109775649668203, num_leaves=29,\n",
       "               objective=&#x27;binary&#x27;, random_state=7, verbose=-1)</pre><b>In a Jupyter environment, please rerun this cell to show the HTML representation or trust the notebook. <br />On GitHub, the HTML representation is unable to render, please try loading this page with nbviewer.org.</b></div><div class=\"sk-container\" hidden><div class=\"sk-item\"><div class=\"sk-estimator sk-toggleable\"><input class=\"sk-toggleable__control sk-hidden--visually\" id=\"sk-estimator-id-3\" type=\"checkbox\" checked><label for=\"sk-estimator-id-3\" class=\"sk-toggleable__label sk-toggleable__label-arrow\">LGBMClassifier</label><div class=\"sk-toggleable__content\"><pre>LGBMClassifier(bagging_fraction=0.7995029565695583,\n",
       "               feature_fraction=0.6370475455514243, lambda_l1=4.686747673224523,\n",
       "               lambda_l2=1.0554293056191062, max_depth=7, metric=&#x27;auc&#x27;,\n",
       "               min_child_weight=27.135987997022514,\n",
       "               min_split_gain=0.026109775649668203, num_leaves=29,\n",
       "               objective=&#x27;binary&#x27;, random_state=7, verbose=-1)</pre></div></div></div></div></div>"
      ],
      "text/plain": [
       "LGBMClassifier(bagging_fraction=0.7995029565695583,\n",
       "               feature_fraction=0.6370475455514243, lambda_l1=4.686747673224523,\n",
       "               lambda_l2=1.0554293056191062, max_depth=7, metric='auc',\n",
       "               min_child_weight=27.135987997022514,\n",
       "               min_split_gain=0.026109775649668203, num_leaves=29,\n",
       "               objective='binary', random_state=7, verbose=-1)"
      ]
     },
     "execution_count": 24,
     "metadata": {},
     "output_type": "execute_result"
    }
   ],
   "source": [
    "# Define the columns to be used for train data\n",
    "train_data_added_to_cart = train_sessions.select([\n",
    "    \"added_to_cart\", \"content_price_data_avg_content_review_count\", \"content_price_data_avg_content_review_wth_media_count\",\n",
    "    \"content_price_data_avg_content_rate_count\", \"content_price_data_avg_content_rate_avg\", \"max_price\", \"min_price\", \"discount_rate\", \"total_rate_score\",\n",
    "    \"media_review_ratio\", \"attribute_type_count\", \n",
    "    \"total_attribute_option_count\", \"merchant_count\", \"filterable_label_count\",\n",
    "    \"user_age\", \"user_tenure_in_years\",\n",
    "    \"user_gender_encoded\", \"user_sitewide_avg_total_click\", \n",
    "    \"user_sitewide_avg_total_cart\", \"user_sitewide_avg_total_fav\", \"user_sitewide_avg_total_order\",\n",
    "    \"user_sitewide_avg_click_cart_order_ratio\", \"user_sitewide_avg_click_cart_ratio\", \n",
    "    \"user_sitewide_avg_click_order_ratio\", \"user_fashion_sitewide_avg_total_click\", \n",
    "    \"user_fashion_sitewide_avg_total_cart\",\"user_fashion_sitewide_avg_total_fav\", \n",
    "    \"user_fashion_sitewide_avg_total_order\", \"user_fashion_sitewide_avg_click_cart_order_ratio\", \n",
    "    \"user_fashion_sitewide_avg_click_cart_ratio\", \"user_fashion_sitewide_avg_click_order_ratio\",\n",
    "    \"content_sitewide_avg_total_click\", \"content_sitewide_avg_total_cart\",\"content_sitewide_avg_total_fav\", \n",
    "    \"content_sitewide_avg_total_order\", \"content_sitewide_avg_click_cart_order_ratio\", \n",
    "    \"content_sitewide_avg_click_cart_ratio\", \"content_sitewide_avg_click_order_ratio\",\n",
    "    \"content_top_terms_log_avg_total_search_click\", \"content_top_terms_log_avg_total_search_impression\", \"content_top_terms_log_avg_click_impression_ratio\",\n",
    "    \"user_top_terms_log_avg_total_search_click\", \"user_top_terms_log_avg_total_search_impression\", \"user_top_terms_log_avg_click_impression_ratio\",\n",
    "    \"user_fashion_search_log_avg_total_search_click\", \"user_fashion_search_log_avg_total_search_impression\", \"user_fashion_search_log_avg_click_impression_ratio\",\n",
    "    \"term_search_log_avg_total_search_click\", \"term_search_log_avg_total_search_impression\", \"term_search_log_avg_click_impression_ratio\"\n",
    "    ])\n",
    "\n",
    "# Separate the train data to X and Y values\n",
    "train_X_added_to_cart = train_data_added_to_cart.drop(\"added_to_cart\").to_pandas()\n",
    "train_y_added_to_cart = train_data_added_to_cart[\"added_to_cart\"].to_pandas()\n",
    "\n",
    "# Define the parameters for the LightGBM model\n",
    "best_params = {\n",
    "    'num_leaves': int(29.367895167617537),\n",
    "    'feature_fraction': 0.6370475455514243,\n",
    "    'bagging_fraction': 0.7995029565695583,\n",
    "    'max_depth': int(7.862155260766498),\n",
    "    'lambda_l1': 4.686747673224523,\n",
    "    'lambda_l2': 1.0554293056191062,\n",
    "    'min_split_gain': 0.026109775649668203,\n",
    "    'min_child_weight': 27.135987997022514 }\n",
    "\n",
    "params = {\n",
    "    'objective': 'binary',\n",
    "    'metric': 'auc',\n",
    "    'boosting_type': 'gbdt',\n",
    "    'verbose': -1,\n",
    "    'random_state': 7,\n",
    "    **best_params\n",
    "}\n",
    "\n",
    "model_added_to_cart = lgb.LGBMClassifier(**params)\n",
    "model_added_to_cart.fit(train_X_added_to_cart, train_y_added_to_cart)"
   ]
  },
  {
   "cell_type": "code",
   "execution_count": 25,
   "id": "f2313018",
   "metadata": {
    "execution": {
     "iopub.execute_input": "2025-08-18T20:21:00.714102Z",
     "iopub.status.busy": "2025-08-18T20:21:00.713741Z",
     "iopub.status.idle": "2025-08-18T20:21:35.681572Z",
     "shell.execute_reply": "2025-08-18T20:21:35.680483Z"
    },
    "papermill": {
     "duration": 34.983185,
     "end_time": "2025-08-18T20:21:35.689242",
     "exception": false,
     "start_time": "2025-08-18T20:21:00.706057",
     "status": "completed"
    },
    "tags": []
   },
   "outputs": [
    {
     "data": {
      "text/html": [
       "<style>#sk-container-id-4 {color: black;background-color: white;}#sk-container-id-4 pre{padding: 0;}#sk-container-id-4 div.sk-toggleable {background-color: white;}#sk-container-id-4 label.sk-toggleable__label {cursor: pointer;display: block;width: 100%;margin-bottom: 0;padding: 0.3em;box-sizing: border-box;text-align: center;}#sk-container-id-4 label.sk-toggleable__label-arrow:before {content: \"▸\";float: left;margin-right: 0.25em;color: #696969;}#sk-container-id-4 label.sk-toggleable__label-arrow:hover:before {color: black;}#sk-container-id-4 div.sk-estimator:hover label.sk-toggleable__label-arrow:before {color: black;}#sk-container-id-4 div.sk-toggleable__content {max-height: 0;max-width: 0;overflow: hidden;text-align: left;background-color: #f0f8ff;}#sk-container-id-4 div.sk-toggleable__content pre {margin: 0.2em;color: black;border-radius: 0.25em;background-color: #f0f8ff;}#sk-container-id-4 input.sk-toggleable__control:checked~div.sk-toggleable__content {max-height: 200px;max-width: 100%;overflow: auto;}#sk-container-id-4 input.sk-toggleable__control:checked~label.sk-toggleable__label-arrow:before {content: \"▾\";}#sk-container-id-4 div.sk-estimator input.sk-toggleable__control:checked~label.sk-toggleable__label {background-color: #d4ebff;}#sk-container-id-4 div.sk-label input.sk-toggleable__control:checked~label.sk-toggleable__label {background-color: #d4ebff;}#sk-container-id-4 input.sk-hidden--visually {border: 0;clip: rect(1px 1px 1px 1px);clip: rect(1px, 1px, 1px, 1px);height: 1px;margin: -1px;overflow: hidden;padding: 0;position: absolute;width: 1px;}#sk-container-id-4 div.sk-estimator {font-family: monospace;background-color: #f0f8ff;border: 1px dotted black;border-radius: 0.25em;box-sizing: border-box;margin-bottom: 0.5em;}#sk-container-id-4 div.sk-estimator:hover {background-color: #d4ebff;}#sk-container-id-4 div.sk-parallel-item::after {content: \"\";width: 100%;border-bottom: 1px solid gray;flex-grow: 1;}#sk-container-id-4 div.sk-label:hover label.sk-toggleable__label {background-color: #d4ebff;}#sk-container-id-4 div.sk-serial::before {content: \"\";position: absolute;border-left: 1px solid gray;box-sizing: border-box;top: 0;bottom: 0;left: 50%;z-index: 0;}#sk-container-id-4 div.sk-serial {display: flex;flex-direction: column;align-items: center;background-color: white;padding-right: 0.2em;padding-left: 0.2em;position: relative;}#sk-container-id-4 div.sk-item {position: relative;z-index: 1;}#sk-container-id-4 div.sk-parallel {display: flex;align-items: stretch;justify-content: center;background-color: white;position: relative;}#sk-container-id-4 div.sk-item::before, #sk-container-id-4 div.sk-parallel-item::before {content: \"\";position: absolute;border-left: 1px solid gray;box-sizing: border-box;top: 0;bottom: 0;left: 50%;z-index: -1;}#sk-container-id-4 div.sk-parallel-item {display: flex;flex-direction: column;z-index: 1;position: relative;background-color: white;}#sk-container-id-4 div.sk-parallel-item:first-child::after {align-self: flex-end;width: 50%;}#sk-container-id-4 div.sk-parallel-item:last-child::after {align-self: flex-start;width: 50%;}#sk-container-id-4 div.sk-parallel-item:only-child::after {width: 0;}#sk-container-id-4 div.sk-dashed-wrapped {border: 1px dashed gray;margin: 0 0.4em 0.5em 0.4em;box-sizing: border-box;padding-bottom: 0.4em;background-color: white;}#sk-container-id-4 div.sk-label label {font-family: monospace;font-weight: bold;display: inline-block;line-height: 1.2em;}#sk-container-id-4 div.sk-label-container {text-align: center;}#sk-container-id-4 div.sk-container {/* jupyter's `normalize.less` sets `[hidden] { display: none; }` but bootstrap.min.css set `[hidden] { display: none !important; }` so we also need the `!important` here to be able to override the default hidden behavior on the sphinx rendered scikit-learn.org. See: https://github.com/scikit-learn/scikit-learn/issues/21755 */display: inline-block !important;position: relative;}#sk-container-id-4 div.sk-text-repr-fallback {display: none;}</style><div id=\"sk-container-id-4\" class=\"sk-top-container\"><div class=\"sk-text-repr-fallback\"><pre>LGBMClassifier(bagging_fraction=0.5282457464911301,\n",
       "               feature_fraction=0.1782819436040616,\n",
       "               lambda_l1=0.8471383839571267, lambda_l2=1.3630054197633439,\n",
       "               max_depth=8, metric=&#x27;auc&#x27;, min_child_weight=5.8439044317519535,\n",
       "               min_split_gain=0.028308385885611347, num_leaves=30,\n",
       "               objective=&#x27;binary&#x27;, random_state=7, verbose=-1)</pre><b>In a Jupyter environment, please rerun this cell to show the HTML representation or trust the notebook. <br />On GitHub, the HTML representation is unable to render, please try loading this page with nbviewer.org.</b></div><div class=\"sk-container\" hidden><div class=\"sk-item\"><div class=\"sk-estimator sk-toggleable\"><input class=\"sk-toggleable__control sk-hidden--visually\" id=\"sk-estimator-id-4\" type=\"checkbox\" checked><label for=\"sk-estimator-id-4\" class=\"sk-toggleable__label sk-toggleable__label-arrow\">LGBMClassifier</label><div class=\"sk-toggleable__content\"><pre>LGBMClassifier(bagging_fraction=0.5282457464911301,\n",
       "               feature_fraction=0.1782819436040616,\n",
       "               lambda_l1=0.8471383839571267, lambda_l2=1.3630054197633439,\n",
       "               max_depth=8, metric=&#x27;auc&#x27;, min_child_weight=5.8439044317519535,\n",
       "               min_split_gain=0.028308385885611347, num_leaves=30,\n",
       "               objective=&#x27;binary&#x27;, random_state=7, verbose=-1)</pre></div></div></div></div></div>"
      ],
      "text/plain": [
       "LGBMClassifier(bagging_fraction=0.5282457464911301,\n",
       "               feature_fraction=0.1782819436040616,\n",
       "               lambda_l1=0.8471383839571267, lambda_l2=1.3630054197633439,\n",
       "               max_depth=8, metric='auc', min_child_weight=5.8439044317519535,\n",
       "               min_split_gain=0.028308385885611347, num_leaves=30,\n",
       "               objective='binary', random_state=7, verbose=-1)"
      ]
     },
     "execution_count": 25,
     "metadata": {},
     "output_type": "execute_result"
    }
   ],
   "source": [
    "# Define the columns to be used for train data\n",
    "train_data_added_to_fav = train_sessions.select([\n",
    "    \"added_to_fav\", \"content_price_data_avg_content_review_count\", \"content_price_data_avg_content_review_wth_media_count\",\n",
    "    \"content_price_data_avg_content_rate_count\", \"content_price_data_avg_content_rate_avg\", \"max_price\", \"min_price\", \"discount_rate\", \"total_rate_score\",\n",
    "    \"media_review_ratio\", \"attribute_type_count\", \n",
    "    \"total_attribute_option_count\", \"merchant_count\", \"filterable_label_count\",\n",
    "    \"user_age\", \"user_tenure_in_years\",\n",
    "    \"user_gender_encoded\", \"user_sitewide_avg_total_click\", \n",
    "    \"user_sitewide_avg_total_cart\", \"user_sitewide_avg_total_fav\", \"user_sitewide_avg_total_order\",\n",
    "    \"user_sitewide_avg_click_cart_order_ratio\", \"user_sitewide_avg_click_cart_ratio\", \n",
    "    \"user_sitewide_avg_click_order_ratio\", \"user_fashion_sitewide_avg_total_click\", \n",
    "    \"user_fashion_sitewide_avg_total_cart\",\"user_fashion_sitewide_avg_total_fav\", \n",
    "    \"user_fashion_sitewide_avg_total_order\", \"user_fashion_sitewide_avg_click_cart_order_ratio\", \n",
    "    \"user_fashion_sitewide_avg_click_cart_ratio\", \"user_fashion_sitewide_avg_click_order_ratio\",\n",
    "    \"content_sitewide_avg_total_click\", \"content_sitewide_avg_total_cart\",\"content_sitewide_avg_total_fav\", \n",
    "    \"content_sitewide_avg_total_order\", \"content_sitewide_avg_click_cart_order_ratio\", \n",
    "    \"content_sitewide_avg_click_cart_ratio\", \"content_sitewide_avg_click_order_ratio\",\n",
    "    \"content_top_terms_log_avg_total_search_click\", \"content_top_terms_log_avg_total_search_impression\", \"content_top_terms_log_avg_click_impression_ratio\",\n",
    "    \"user_top_terms_log_avg_total_search_click\", \"user_top_terms_log_avg_total_search_impression\", \"user_top_terms_log_avg_click_impression_ratio\",\n",
    "    \"user_fashion_search_log_avg_total_search_click\", \"user_fashion_search_log_avg_total_search_impression\", \"user_fashion_search_log_avg_click_impression_ratio\",\n",
    "    \"term_search_log_avg_total_search_click\", \"term_search_log_avg_total_search_impression\", \"term_search_log_avg_click_impression_ratio\"\n",
    "    ])\n",
    "\n",
    "# Separate the train data to X and Y values\n",
    "train_X_added_to_fav = train_data_added_to_fav.drop(\"added_to_fav\").to_pandas()\n",
    "train_y_added_to_fav = train_data_added_to_fav[\"added_to_fav\"].to_pandas()\n",
    "\n",
    "# Define the parameters for the LightGBM model\n",
    "best_params = {\n",
    "    'num_leaves': int(30.703241072648808),\n",
    "    'feature_fraction': 0.1782819436040616,\n",
    "    'bagging_fraction': 0.5282457464911301,\n",
    "    'max_depth': int(8.526412364373703),\n",
    "    'lambda_l1': 0.8471383839571267,\n",
    "    'lambda_l2': 1.3630054197633439,\n",
    "    'min_split_gain': 0.028308385885611347,\n",
    "    'min_child_weight': 5.8439044317519535\n",
    "}\n",
    "\n",
    "params = {\n",
    "    'objective': 'binary',\n",
    "    'metric': 'auc',\n",
    "    'boosting_type': 'gbdt',\n",
    "    'verbose': -1,\n",
    "    'random_state': 7,\n",
    "    **best_params    \n",
    "}\n",
    "\n",
    "model_added_to_fav = lgb.LGBMClassifier(**params)\n",
    "model_added_to_fav.fit(train_X_added_to_fav, train_y_added_to_fav)"
   ]
  },
  {
   "cell_type": "code",
   "execution_count": 26,
   "id": "6f3257d9",
   "metadata": {
    "execution": {
     "iopub.execute_input": "2025-08-18T20:21:35.703569Z",
     "iopub.status.busy": "2025-08-18T20:21:35.703240Z",
     "iopub.status.idle": "2025-08-18T20:22:04.051418Z",
     "shell.execute_reply": "2025-08-18T20:22:04.049823Z"
    },
    "papermill": {
     "duration": 28.357931,
     "end_time": "2025-08-18T20:22:04.053648",
     "exception": false,
     "start_time": "2025-08-18T20:21:35.695717",
     "status": "completed"
    },
    "tags": []
   },
   "outputs": [],
   "source": [
    "test_sessions = test_sessions.with_columns(\n",
    "    prediction_order = model_ordered.predict_proba(\n",
    "        test_sessions.select(train_X_ordered.columns).to_pandas()\n",
    "    )[:, 1],\n",
    "    prediction_clicked = model_clicked.predict_proba(\n",
    "        test_sessions.select(train_X_clicked.columns).to_pandas()\n",
    "    )[:, 1]\n",
    ")"
   ]
  },
  {
   "cell_type": "code",
   "execution_count": 27,
   "id": "62092a4e",
   "metadata": {
    "execution": {
     "iopub.execute_input": "2025-08-18T20:22:04.069972Z",
     "iopub.status.busy": "2025-08-18T20:22:04.068643Z",
     "iopub.status.idle": "2025-08-18T20:22:29.806835Z",
     "shell.execute_reply": "2025-08-18T20:22:29.805799Z"
    },
    "papermill": {
     "duration": 25.748059,
     "end_time": "2025-08-18T20:22:29.808973",
     "exception": false,
     "start_time": "2025-08-18T20:22:04.060914",
     "status": "completed"
    },
    "tags": []
   },
   "outputs": [],
   "source": [
    "test_sessions = test_sessions.with_columns(\n",
    "    prediction_added_to_cart = model_added_to_cart.predict_proba(\n",
    "        test_sessions.select(train_X_added_to_cart.columns).to_pandas()\n",
    "    )[:, 1],\n",
    "    prediction_added_to_fav = model_added_to_fav.predict_proba(\n",
    "        test_sessions.select(train_X_added_to_fav.columns).to_pandas()\n",
    "    )[:, 1]\n",
    ")"
   ]
  },
  {
   "cell_type": "code",
   "execution_count": 28,
   "id": "b0ebbd41",
   "metadata": {
    "execution": {
     "iopub.execute_input": "2025-08-18T20:22:29.824462Z",
     "iopub.status.busy": "2025-08-18T20:22:29.823649Z",
     "iopub.status.idle": "2025-08-18T20:22:32.021948Z",
     "shell.execute_reply": "2025-08-18T20:22:32.020783Z"
    },
    "papermill": {
     "duration": 2.207687,
     "end_time": "2025-08-18T20:22:32.023766",
     "exception": false,
     "start_time": "2025-08-18T20:22:29.816079",
     "status": "completed"
    },
    "tags": []
   },
   "outputs": [
    {
     "data": {
      "text/html": [
       "<div><style>\n",
       ".dataframe > thead > tr,\n",
       ".dataframe > tbody > tr {\n",
       "  text-align: right;\n",
       "  white-space: pre-wrap;\n",
       "}\n",
       "</style>\n",
       "<small>shape: (5, 67)</small><table border=\"1\" class=\"dataframe\"><thead><tr><th>ts_hour</th><th>search_term_normalized</th><th>user_id_hashed</th><th>content_id_hashed</th><th>session_id</th><th>ts_date</th><th>level1_category_name</th><th>level2_category_name</th><th>leaf_category_name</th><th>attribute_type_count</th><th>total_attribute_option_count</th><th>merchant_count</th><th>filterable_label_count</th><th>content_creation_date</th><th>cv_tags</th><th>content_price_data_avg_update_date</th><th>content_price_data_avg_content_review_count</th><th>content_price_data_avg_content_review_wth_media_count</th><th>content_price_data_avg_content_rate_count</th><th>content_price_data_avg_content_rate_avg</th><th>max_price</th><th>min_price</th><th>discount_rate</th><th>total_rate_score</th><th>media_review_ratio</th><th>ts_date_right</th><th>user_age</th><th>user_tenure_in_years</th><th>user_gender_encoded</th><th>user_sitewide_avg_total_click</th><th>user_sitewide_avg_total_cart</th><th>user_sitewide_avg_total_fav</th><th>user_sitewide_avg_total_order</th><th>user_sitewide_avg_click_cart_order_ratio</th><th>user_sitewide_avg_click_cart_ratio</th><th>user_sitewide_avg_click_order_ratio</th><th>user_fashion_sitewide_avg_total_click</th><th>user_fashion_sitewide_avg_total_cart</th><th>user_fashion_sitewide_avg_total_fav</th><th>user_fashion_sitewide_avg_total_order</th><th>user_fashion_sitewide_avg_click_cart_order_ratio</th><th>user_fashion_sitewide_avg_click_cart_ratio</th><th>user_fashion_sitewide_avg_click_order_ratio</th><th>content_sitewide_avg_total_click</th><th>content_sitewide_avg_total_cart</th><th>content_sitewide_avg_total_fav</th><th>content_sitewide_avg_total_order</th><th>content_sitewide_avg_click_cart_order_ratio</th><th>content_sitewide_avg_click_cart_ratio</th><th>content_sitewide_avg_click_order_ratio</th><th>content_top_terms_log_avg_total_search_click</th><th>content_top_terms_log_avg_total_search_impression</th><th>content_top_terms_log_avg_click_impression_ratio</th><th>user_top_terms_log_avg_total_search_click</th><th>user_top_terms_log_avg_total_search_impression</th><th>user_top_terms_log_avg_click_impression_ratio</th><th>user_fashion_search_log_avg_total_search_click</th><th>user_fashion_search_log_avg_total_search_impression</th><th>user_fashion_search_log_avg_click_impression_ratio</th><th>term_search_log_avg_total_search_click</th><th>term_search_log_avg_total_search_impression</th><th>term_search_log_avg_click_impression_ratio</th><th>prediction_order</th><th>prediction_clicked</th><th>prediction_added_to_cart</th><th>prediction_added_to_fav</th><th>prediction</th></tr><tr><td>datetime[μs, UTC]</td><td>str</td><td>str</td><td>str</td><td>str</td><td>date</td><td>str</td><td>str</td><td>str</td><td>f64</td><td>f64</td><td>f64</td><td>f64</td><td>datetime[μs, UTC]</td><td>str</td><td>datetime[ms]</td><td>f64</td><td>f64</td><td>f64</td><td>f64</td><td>f64</td><td>f64</td><td>f64</td><td>f64</td><td>f64</td><td>date</td><td>f64</td><td>f64</td><td>i8</td><td>f64</td><td>f64</td><td>f64</td><td>f64</td><td>f64</td><td>f64</td><td>f64</td><td>f64</td><td>f64</td><td>f64</td><td>f64</td><td>f64</td><td>f64</td><td>f64</td><td>f64</td><td>f64</td><td>f64</td><td>f64</td><td>f64</td><td>f64</td><td>f64</td><td>f64</td><td>f64</td><td>f64</td><td>f64</td><td>f64</td><td>f64</td><td>f64</td><td>f64</td><td>f64</td><td>f64</td><td>f64</td><td>f64</td><td>f64</td><td>f64</td><td>f64</td><td>f64</td><td>f64</td></tr></thead><tbody><tr><td>2025-07-12 17:00:00 UTC</td><td>&quot;canta&quot;</td><td>&quot;331eb01975a779d7&quot;</td><td>&quot;7461948a60e17761&quot;</td><td>&quot;test_fffe1513d5463e39&quot;</td><td>2025-07-12</td><td>&quot;Aksesuar&quot;</td><td>&quot;Çanta&quot;</td><td>&quot;Omuz Çantası&quot;</td><td>1.0</td><td>1.0</td><td>1.0</td><td>2.0</td><td>2025-06-11 00:00:00 UTC</td><td>&quot;minimalizm, ucuz şık&quot;</td><td>2025-07-09 00:00:00</td><td>0.000002</td><td>8.3838e-7</td><td>0.000002</td><td>5.0</td><td>0.001596</td><td>0.001596</td><td>0.0</td><td>2.7831e6</td><td>0.466667</td><td>2025-07-09</td><td>null</td><td>1.0</td><td>0</td><td>0.000003</td><td>2.8745e-7</td><td>0.000001</td><td>0.0</td><td>2.8265e6</td><td>2.826544</td><td>2.826544</td><td>0.0</td><td>0.0</td><td>4.7908e-7</td><td>0.0</td><td>0.0</td><td>0.0</td><td>0.0</td><td>0.000171</td><td>0.000007</td><td>0.000046</td><td>0.000001</td><td>1.9595e7</td><td>24.528889</td><td>136.271605</td><td>0.00001</td><td>0.000504</td><td>0.018865</td><td>null</td><td>null</td><td>null</td><td>null</td><td>null</td><td>null</td><td>0.002599</td><td>0.125296</td><td>0.020739</td><td>0.017908</td><td>0.167501</td><td>0.021544</td><td>0.034367</td><td>0.746752</td></tr><tr><td>2025-07-12 17:00:00 UTC</td><td>&quot;canta&quot;</td><td>&quot;331eb01975a779d7&quot;</td><td>&quot;eb9bb5f0d155e0d4&quot;</td><td>&quot;test_fffe1513d5463e39&quot;</td><td>2025-07-12</td><td>&quot;Aksesuar&quot;</td><td>&quot;Çanta&quot;</td><td>&quot;Omuz Çantası&quot;</td><td>1.0</td><td>1.0</td><td>3.0</td><td>7.0</td><td>2025-02-10 00:00:00 UTC</td><td>null</td><td>2025-07-11 00:00:00</td><td>0.000002</td><td>4.7908e-7</td><td>0.000003</td><td>4.857143</td><td>0.000846</td><td>0.000846</td><td>0.0</td><td>1.4484e6</td><td>0.2</td><td>2025-07-11</td><td>null</td><td>1.0</td><td>0</td><td>0.000003</td><td>2.8745e-7</td><td>0.000001</td><td>0.0</td><td>2.8265e6</td><td>2.826544</td><td>2.826544</td><td>4.7908e-7</td><td>0.0</td><td>4.7908e-7</td><td>0.0</td><td>479075.273577</td><td>0.479075</td><td>0.479075</td><td>0.001571</td><td>0.000035</td><td>0.000229</td><td>0.000005</td><td>9.0021e6</td><td>45.074468</td><td>313.851852</td><td>0.000064</td><td>0.002114</td><td>0.03014</td><td>null</td><td>null</td><td>null</td><td>null</td><td>null</td><td>null</td><td>0.002599</td><td>0.125296</td><td>0.020739</td><td>0.012727</td><td>0.147587</td><td>0.015294</td><td>0.052923</td><td>0.638762</td></tr><tr><td>2025-07-12 17:00:00 UTC</td><td>&quot;canta&quot;</td><td>&quot;331eb01975a779d7&quot;</td><td>&quot;6a4a415c816368b2&quot;</td><td>&quot;test_fffe1513d5463e39&quot;</td><td>2025-07-12</td><td>&quot;Aksesuar&quot;</td><td>&quot;Çanta&quot;</td><td>&quot;Omuz Çantası&quot;</td><td>1.0</td><td>1.0</td><td>3.0</td><td>2.0</td><td>2025-06-11 00:00:00 UTC</td><td>null</td><td>2025-07-09 08:00:00</td><td>3.1938e-7</td><td>3.1938e-7</td><td>3.1938e-7</td><td>5.0</td><td>0.001863</td><td>0.001696</td><td>8.946352</td><td>1.5655e7</td><td>1.0</td><td>2025-07-09</td><td>null</td><td>1.0</td><td>0</td><td>0.000003</td><td>2.8745e-7</td><td>0.000001</td><td>0.0</td><td>2.8265e6</td><td>2.826544</td><td>2.826544</td><td>0.0</td><td>0.0</td><td>4.7908e-7</td><td>0.0</td><td>0.0</td><td>0.0</td><td>0.0</td><td>0.000207</td><td>0.000003</td><td>0.000043</td><td>6.3362e-7</td><td>5.9937e7</td><td>59.93722</td><td>206.558713</td><td>0.000013</td><td>0.000507</td><td>0.026253</td><td>null</td><td>null</td><td>null</td><td>null</td><td>null</td><td>null</td><td>0.002599</td><td>0.125296</td><td>0.020739</td><td>0.012431</td><td>0.167271</td><td>0.021692</td><td>0.039822</td><td>0.626714</td></tr><tr><td>2025-07-12 17:00:00 UTC</td><td>&quot;canta&quot;</td><td>&quot;331eb01975a779d7&quot;</td><td>&quot;1995da2ecc59696b&quot;</td><td>&quot;test_fffe1513d5463e39&quot;</td><td>2025-07-12</td><td>&quot;Aksesuar&quot;</td><td>&quot;Çanta&quot;</td><td>&quot;El Çantası&quot;</td><td>1.0</td><td>1.0</td><td>1.0</td><td>3.0</td><td>2025-06-11 00:00:00 UTC</td><td>null</td><td>2025-07-11 00:00:00</td><td>0.0</td><td>0.0</td><td>0.0</td><td>null</td><td>0.001145</td><td>0.001145</td><td>0.0</td><td>null</td><td>NaN</td><td>2025-07-11</td><td>null</td><td>1.0</td><td>0</td><td>0.000003</td><td>2.8745e-7</td><td>0.000001</td><td>0.0</td><td>2.8265e6</td><td>2.826544</td><td>2.826544</td><td>null</td><td>null</td><td>null</td><td>null</td><td>null</td><td>null</td><td>null</td><td>0.000043</td><td>0.000002</td><td>0.000015</td><td>4.7908e-7</td><td>2e7</td><td>20.0</td><td>43.116775</td><td>0.000004</td><td>0.000065</td><td>0.055351</td><td>null</td><td>null</td><td>null</td><td>null</td><td>null</td><td>null</td><td>0.002599</td><td>0.125296</td><td>0.020739</td><td>0.001805</td><td>0.058305</td><td>0.003072</td><td>0.021778</td><td>0.166608</td></tr><tr><td>2025-07-12 17:00:00 UTC</td><td>&quot;canta&quot;</td><td>&quot;331eb01975a779d7&quot;</td><td>&quot;810cc6d724ee73e9&quot;</td><td>&quot;test_fffe1513d5463e39&quot;</td><td>2025-07-12</td><td>&quot;Aksesuar&quot;</td><td>&quot;Çanta&quot;</td><td>&quot;Abiye Çanta&quot;</td><td>1.0</td><td>1.0</td><td>1.0</td><td>4.0</td><td>2025-06-27 00:00:00 UTC</td><td>null</td><td>2025-07-10 00:00:00</td><td>6.3877e-7</td><td>1.5969e-7</td><td>6.3877e-7</td><td>3.333333</td><td>0.001095</td><td>0.001095</td><td>0.0</td><td>5.2184e6</td><td>0.25</td><td>2025-07-10</td><td>null</td><td>1.0</td><td>0</td><td>0.000003</td><td>2.8745e-7</td><td>0.000001</td><td>0.0</td><td>2.8265e6</td><td>2.826544</td><td>2.826544</td><td>null</td><td>null</td><td>null</td><td>null</td><td>null</td><td>null</td><td>null</td><td>0.000035</td><td>0.000002</td><td>0.00001</td><td>7.5854e-7</td><td>1.9261e7</td><td>19.26087</td><td>35.371724</td><td>0.000004</td><td>0.000062</td><td>0.059663</td><td>null</td><td>null</td><td>null</td><td>null</td><td>null</td><td>null</td><td>0.002599</td><td>0.125296</td><td>0.020739</td><td>0.001841</td><td>0.063341</td><td>0.003138</td><td>0.018234</td><td>0.161486</td></tr></tbody></table></div>"
      ],
      "text/plain": [
       "shape: (5, 67)\n",
       "┌───────────┬───────────┬───────────┬───────────┬───┬───────────┬───────────┬───────────┬──────────┐\n",
       "│ ts_hour   ┆ search_te ┆ user_id_h ┆ content_i ┆ … ┆ predictio ┆ predictio ┆ predictio ┆ predicti │\n",
       "│ ---       ┆ rm_normal ┆ ashed     ┆ d_hashed  ┆   ┆ n_clicked ┆ n_added_t ┆ n_added_t ┆ on       │\n",
       "│ datetime[ ┆ ized      ┆ ---       ┆ ---       ┆   ┆ ---       ┆ o_cart    ┆ o_fav     ┆ ---      │\n",
       "│ μs, UTC]  ┆ ---       ┆ str       ┆ str       ┆   ┆ f64       ┆ ---       ┆ ---       ┆ f64      │\n",
       "│           ┆ str       ┆           ┆           ┆   ┆           ┆ f64       ┆ f64       ┆          │\n",
       "╞═══════════╪═══════════╪═══════════╪═══════════╪═══╪═══════════╪═══════════╪═══════════╪══════════╡\n",
       "│ 2025-07-1 ┆ canta     ┆ 331eb0197 ┆ 7461948a6 ┆ … ┆ 0.167501  ┆ 0.021544  ┆ 0.034367  ┆ 0.746752 │\n",
       "│ 2         ┆           ┆ 5a779d7   ┆ 0e17761   ┆   ┆           ┆           ┆           ┆          │\n",
       "│ 17:00:00  ┆           ┆           ┆           ┆   ┆           ┆           ┆           ┆          │\n",
       "│ UTC       ┆           ┆           ┆           ┆   ┆           ┆           ┆           ┆          │\n",
       "│ 2025-07-1 ┆ canta     ┆ 331eb0197 ┆ eb9bb5f0d ┆ … ┆ 0.147587  ┆ 0.015294  ┆ 0.052923  ┆ 0.638762 │\n",
       "│ 2         ┆           ┆ 5a779d7   ┆ 155e0d4   ┆   ┆           ┆           ┆           ┆          │\n",
       "│ 17:00:00  ┆           ┆           ┆           ┆   ┆           ┆           ┆           ┆          │\n",
       "│ UTC       ┆           ┆           ┆           ┆   ┆           ┆           ┆           ┆          │\n",
       "│ 2025-07-1 ┆ canta     ┆ 331eb0197 ┆ 6a4a415c8 ┆ … ┆ 0.167271  ┆ 0.021692  ┆ 0.039822  ┆ 0.626714 │\n",
       "│ 2         ┆           ┆ 5a779d7   ┆ 16368b2   ┆   ┆           ┆           ┆           ┆          │\n",
       "│ 17:00:00  ┆           ┆           ┆           ┆   ┆           ┆           ┆           ┆          │\n",
       "│ UTC       ┆           ┆           ┆           ┆   ┆           ┆           ┆           ┆          │\n",
       "│ 2025-07-1 ┆ canta     ┆ 331eb0197 ┆ 1995da2ec ┆ … ┆ 0.058305  ┆ 0.003072  ┆ 0.021778  ┆ 0.166608 │\n",
       "│ 2         ┆           ┆ 5a779d7   ┆ c59696b   ┆   ┆           ┆           ┆           ┆          │\n",
       "│ 17:00:00  ┆           ┆           ┆           ┆   ┆           ┆           ┆           ┆          │\n",
       "│ UTC       ┆           ┆           ┆           ┆   ┆           ┆           ┆           ┆          │\n",
       "│ 2025-07-1 ┆ canta     ┆ 331eb0197 ┆ 810cc6d72 ┆ … ┆ 0.063341  ┆ 0.003138  ┆ 0.018234  ┆ 0.161486 │\n",
       "│ 2         ┆           ┆ 5a779d7   ┆ 4ee73e9   ┆   ┆           ┆           ┆           ┆          │\n",
       "│ 17:00:00  ┆           ┆           ┆           ┆   ┆           ┆           ┆           ┆          │\n",
       "│ UTC       ┆           ┆           ┆           ┆   ┆           ┆           ┆           ┆          │\n",
       "└───────────┴───────────┴───────────┴───────────┴───┴───────────┴───────────┴───────────┴──────────┘"
      ]
     },
     "execution_count": 28,
     "metadata": {},
     "output_type": "execute_result"
    }
   ],
   "source": [
    "order_weight = 24.893159164894975\n",
    "added_to_cart_weight = 2.7180381266570746\n",
    "added_to_fav_weight = 2.949427030275091\n",
    "click_weight =  0.8420917092839927\n",
    "\n",
    "\n",
    "test_sessions = test_sessions.with_columns(\n",
    "    prediction = (\n",
    "        (pl.col(\"prediction_order\") * order_weight +\n",
    "         pl.col(\"prediction_clicked\") * click_weight) +\n",
    "        (pl.col(\"prediction_added_to_cart\") * added_to_cart_weight) +\n",
    "        (pl.col(\"prediction_added_to_fav\") * added_to_fav_weight)\n",
    "    )\n",
    ")\n",
    "\n",
    "test_sessions = test_sessions.sort([\"session_id\", \"prediction\"], descending=True)\n",
    "test_sessions.head()"
   ]
  },
  {
   "cell_type": "code",
   "execution_count": 29,
   "id": "c3b3ba5e",
   "metadata": {
    "execution": {
     "iopub.execute_input": "2025-08-18T20:22:32.040306Z",
     "iopub.status.busy": "2025-08-18T20:22:32.039977Z",
     "iopub.status.idle": "2025-08-18T20:22:32.342403Z",
     "shell.execute_reply": "2025-08-18T20:22:32.341261Z"
    },
    "papermill": {
     "duration": 0.31259,
     "end_time": "2025-08-18T20:22:32.344203",
     "exception": false,
     "start_time": "2025-08-18T20:22:32.031613",
     "status": "completed"
    },
    "tags": []
   },
   "outputs": [
    {
     "data": {
      "text/html": [
       "<div><style>\n",
       ".dataframe > thead > tr,\n",
       ".dataframe > tbody > tr {\n",
       "  text-align: right;\n",
       "  white-space: pre-wrap;\n",
       "}\n",
       "</style>\n",
       "<small>shape: (18_589, 2)</small><table border=\"1\" class=\"dataframe\"><thead><tr><th>session_id</th><th>prediction</th></tr><tr><td>str</td><td>str</td></tr></thead><tbody><tr><td>&quot;test_b4d93291695ce111&quot;</td><td>&quot;08273eea541c9ffb 617602f231149…</td></tr><tr><td>&quot;test_c82fda9fc67bb22f&quot;</td><td>&quot;51f35d901d6ff890 782b9565985d1…</td></tr><tr><td>&quot;test_9ea6253c9f159ddf&quot;</td><td>&quot;06ae371d42dd4afc a5f102de5f5e0…</td></tr><tr><td>&quot;test_5f123aa9e195d84a&quot;</td><td>&quot;7ce7661af5f28105 3d797a67e0733…</td></tr><tr><td>&quot;test_900170e64c9dcc3a&quot;</td><td>&quot;7f243a11773e5108 43d1f18b8111a…</td></tr><tr><td>&hellip;</td><td>&hellip;</td></tr><tr><td>&quot;test_79f2883d238ab02a&quot;</td><td>&quot;a4a5d7bb3bb25a81 6061ea770ef74…</td></tr><tr><td>&quot;test_ebb702960282c5e8&quot;</td><td>&quot;6fdc03c036bea05f 7964e4fd38fec…</td></tr><tr><td>&quot;test_5511551085cf012e&quot;</td><td>&quot;85c40f5e1be55c4a 161a7de01f932…</td></tr><tr><td>&quot;test_057c61b8e7e65009&quot;</td><td>&quot;f38e3c14d003f1ba f4c6a33263e59…</td></tr><tr><td>&quot;test_18d98274a72393b5&quot;</td><td>&quot;5d443310177dcd94 cda72e1535ffd…</td></tr></tbody></table></div>"
      ],
      "text/plain": [
       "shape: (18_589, 2)\n",
       "┌───────────────────────┬─────────────────────────────────┐\n",
       "│ session_id            ┆ prediction                      │\n",
       "│ ---                   ┆ ---                             │\n",
       "│ str                   ┆ str                             │\n",
       "╞═══════════════════════╪═════════════════════════════════╡\n",
       "│ test_b4d93291695ce111 ┆ 08273eea541c9ffb 617602f231149… │\n",
       "│ test_c82fda9fc67bb22f ┆ 51f35d901d6ff890 782b9565985d1… │\n",
       "│ test_9ea6253c9f159ddf ┆ 06ae371d42dd4afc a5f102de5f5e0… │\n",
       "│ test_5f123aa9e195d84a ┆ 7ce7661af5f28105 3d797a67e0733… │\n",
       "│ test_900170e64c9dcc3a ┆ 7f243a11773e5108 43d1f18b8111a… │\n",
       "│ …                     ┆ …                               │\n",
       "│ test_79f2883d238ab02a ┆ a4a5d7bb3bb25a81 6061ea770ef74… │\n",
       "│ test_ebb702960282c5e8 ┆ 6fdc03c036bea05f 7964e4fd38fec… │\n",
       "│ test_5511551085cf012e ┆ 85c40f5e1be55c4a 161a7de01f932… │\n",
       "│ test_057c61b8e7e65009 ┆ f38e3c14d003f1ba f4c6a33263e59… │\n",
       "│ test_18d98274a72393b5 ┆ 5d443310177dcd94 cda72e1535ffd… │\n",
       "└───────────────────────┴─────────────────────────────────┘"
      ]
     },
     "execution_count": 29,
     "metadata": {},
     "output_type": "execute_result"
    }
   ],
   "source": [
    "submission_df = test_sessions.group_by(\"session_id\").agg(\n",
    "    pl.col(\"content_id_hashed\").alias(\"prediction\")\n",
    ").with_columns(\n",
    "    pl.col(\"prediction\").list.join(\" \")\n",
    ")\n",
    "submission_df"
   ]
  },
  {
   "cell_type": "code",
   "execution_count": 30,
   "id": "07b1b704",
   "metadata": {
    "execution": {
     "iopub.execute_input": "2025-08-18T20:22:32.360023Z",
     "iopub.status.busy": "2025-08-18T20:22:32.359623Z",
     "iopub.status.idle": "2025-08-18T20:22:32.494975Z",
     "shell.execute_reply": "2025-08-18T20:22:32.493791Z"
    },
    "papermill": {
     "duration": 0.146003,
     "end_time": "2025-08-18T20:22:32.497593",
     "exception": false,
     "start_time": "2025-08-18T20:22:32.351590",
     "status": "completed"
    },
    "tags": []
   },
   "outputs": [],
   "source": [
    " submission_df.write_csv(\"sample_submission_level14.csv\")"
   ]
  }
 ],
 "metadata": {
  "kaggle": {
   "accelerator": "none",
   "dataSources": [
    {
     "databundleVersionId": 13322119,
     "sourceId": 111662,
     "sourceType": "competition"
    }
   ],
   "dockerImageVersionId": 31089,
   "isGpuEnabled": false,
   "isInternetEnabled": true,
   "language": "python",
   "sourceType": "notebook"
  },
  "kernelspec": {
   "display_name": "Python 3",
   "language": "python",
   "name": "python3"
  },
  "language_info": {
   "codemirror_mode": {
    "name": "ipython",
    "version": 3
   },
   "file_extension": ".py",
   "mimetype": "text/x-python",
   "name": "python",
   "nbconvert_exporter": "python",
   "pygments_lexer": "ipython3",
   "version": "3.11.13"
  },
  "papermill": {
   "default_parameters": {},
   "duration": 724.161857,
   "end_time": "2025-08-18T20:22:35.530464",
   "environment_variables": {},
   "exception": null,
   "input_path": "__notebook__.ipynb",
   "output_path": "__notebook__.ipynb",
   "parameters": {},
   "start_time": "2025-08-18T20:10:31.368607",
   "version": "2.6.0"
  }
 },
 "nbformat": 4,
 "nbformat_minor": 5
}
